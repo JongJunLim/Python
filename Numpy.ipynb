{
 "cells": [
  {
   "cell_type": "markdown",
   "id": "a4aecb6e",
   "metadata": {},
   "source": [
    "## 1. Numpy란?\n",
    " - Numerical python의 줄임말로써 고성능의 수치 계산을 하기 위해 만들어진 파이썬 package\n",
    " - Numpy는 과학 계산을 위한 수치해석용 라이브러리로서 다차원 배열을 처리하는데 필요한 여러 유용한 기능을 제공하고 있음\n",
    " - 기본적으로 array라는 자료 구조를 제공하며 선형대수용 행렬, 벡터 수학 계산을 위한 자료구조와 계산 함수를 제공\n",
    " - 보통 과학용 일반 함수 목록으로 SciPy, 차트용 라이브러리인 Matplotlib, 고수준 DataFrame 제공 모듈인 Pandas와 함께 사용"
   ]
  },
  {
   "cell_type": "markdown",
   "id": "aa1c695c",
   "metadata": {},
   "source": [
    "### 1.1 Numpy 특징\n",
    " - 특징, 메트릭스, 고수준의 배열은 과학계산 컴퓨팅에 있어 필수 도구라 할 수 있음\n",
    "  - 입력 값 세트를 통해 계산이 반복될 때, 배열로 데이터를 나타내는 것이 자연스럽고 장점이 많음\n",
    "  - 파이썬 과학계산 환경에서, 배열을 다루기 좋은 구조를 제공하는 라이브러리가 Numpy임\n",
    " \n",
    " - Numpy의 핵심 기능은 C로 구현되어 있어 배열을 계산하고 처리하는데 효율적인 기능들을 제공하고, 속도 또한 빠름\n",
    "  - 파이썬 프로그램이 일반적으로 C에 비해 느린 이유는 for 루프문 때문인데, Numpy의 벡터 연산을 이용하면 for 루프면 없이 빠르게 동작하는 코드를 작성할 수 있음\n",
    " \n",
    " - 첫눈에 보기에 Numpy 배열은 파이썬 리스트 데이터 구조와 유사해보임\n",
    "  - 하지만 파이썬 리스트는 다양한 객체를 담을 수 있는 컨테이너인데 반해 Numpy 배열은 동일한 자료형만 담을 수 있다는 점이 중요한 차이점\n",
    "  \n",
    " - Numpy에는 고수준의 데이터 분석 기능을 제공하지는 않음\n",
    "  - 그러므로 나중에 Scipy나 Pandas 같은 도구를 사용해 데이터 분석을 수행하는 것이 효과적임"
   ]
  },
  {
   "cell_type": "code",
   "execution_count": 2,
   "id": "7a47330b",
   "metadata": {},
   "outputs": [],
   "source": [
    "import numpy as np"
   ]
  },
  {
   "cell_type": "code",
   "execution_count": 2,
   "id": "78f5c0a0",
   "metadata": {},
   "outputs": [
    {
     "name": "stdout",
     "output_type": "stream",
     "text": [
      "[7, 2, 8, 10]\n",
      "<class 'list'>\n"
     ]
    }
   ],
   "source": [
    "list1 = [7,2,8,10]\n",
    "\n",
    "print(list1)\n",
    "print(type(list1))"
   ]
  },
  {
   "cell_type": "code",
   "execution_count": 4,
   "id": "efb8310f",
   "metadata": {},
   "outputs": [
    {
     "name": "stdout",
     "output_type": "stream",
     "text": [
      "[ 7  2  8 10]\n",
      "<class 'numpy.ndarray'>\n"
     ]
    }
   ],
   "source": [
    "array1 = np.array(list1)\n",
    "print(array1)\n",
    "print(type(array1))"
   ]
  },
  {
   "cell_type": "code",
   "execution_count": 5,
   "id": "9e5fafb0",
   "metadata": {},
   "outputs": [
    {
     "name": "stdout",
     "output_type": "stream",
     "text": [
      "[[5.2, 3.0, 4.5], [9.1, 0.1, 0.3]]\n",
      "<class 'list'>\n"
     ]
    }
   ],
   "source": [
    "list2 = [[5.2,3.0,4.5],[9.1,0.1,0.3]]\n",
    "print(list2)\n",
    "print(type(list2))"
   ]
  },
  {
   "cell_type": "code",
   "execution_count": 7,
   "id": "c539d106",
   "metadata": {},
   "outputs": [
    {
     "name": "stdout",
     "output_type": "stream",
     "text": [
      "[[5.2 3.  4.5]\n",
      " [9.1 0.1 0.3]]\n",
      "<class 'numpy.ndarray'>\n"
     ]
    }
   ],
   "source": [
    "array2 = np.array(list2)\n",
    "\n",
    "print(array2)\n",
    "print(type(array2))"
   ]
  },
  {
   "cell_type": "code",
   "execution_count": 8,
   "id": "e7947169",
   "metadata": {},
   "outputs": [
    {
     "data": {
      "text/plain": [
       "(4,)"
      ]
     },
     "execution_count": 8,
     "metadata": {},
     "output_type": "execute_result"
    }
   ],
   "source": [
    "array1.shape"
   ]
  },
  {
   "cell_type": "code",
   "execution_count": 9,
   "id": "e68b6d1f",
   "metadata": {},
   "outputs": [
    {
     "data": {
      "text/plain": [
       "(2, 3)"
      ]
     },
     "execution_count": 9,
     "metadata": {},
     "output_type": "execute_result"
    }
   ],
   "source": [
    "array2.shape"
   ]
  },
  {
   "cell_type": "code",
   "execution_count": 10,
   "id": "021bf4d2",
   "metadata": {},
   "outputs": [
    {
     "name": "stdout",
     "output_type": "stream",
     "text": [
      "[1 2 3 4]\n",
      "<class 'numpy.ndarray'>\n",
      "(4,)\n"
     ]
    }
   ],
   "source": [
    "a = np.array([1,2,3,4])\n",
    "\n",
    "print(a)\n",
    "print(type(a))\n",
    "print(a.shape)"
   ]
  },
  {
   "cell_type": "code",
   "execution_count": 12,
   "id": "85489d5f",
   "metadata": {},
   "outputs": [
    {
     "name": "stdout",
     "output_type": "stream",
     "text": [
      "[[1 2 3 4]]\n",
      "<class 'numpy.ndarray'>\n",
      "(1, 4)\n"
     ]
    }
   ],
   "source": [
    "b = np.array([[1,2,3,4]])\n",
    "\n",
    "print(b)\n",
    "print(type(b))\n",
    "print(b.shape)"
   ]
  },
  {
   "cell_type": "markdown",
   "id": "9bf88e49",
   "metadata": {},
   "source": [
    "### Transpose\n",
    " - np.transpose()\n",
    " - .T"
   ]
  },
  {
   "cell_type": "code",
   "execution_count": 13,
   "id": "aca0700d",
   "metadata": {},
   "outputs": [
    {
     "name": "stdout",
     "output_type": "stream",
     "text": [
      "[1 2 3 4]\n",
      "[1 2 3 4]\n"
     ]
    }
   ],
   "source": [
    "print(a)\n",
    "print(a.T)"
   ]
  },
  {
   "cell_type": "code",
   "execution_count": 14,
   "id": "036e48bf",
   "metadata": {},
   "outputs": [
    {
     "name": "stdout",
     "output_type": "stream",
     "text": [
      "[[1 2 3 4]]\n",
      "[[1]\n",
      " [2]\n",
      " [3]\n",
      " [4]]\n"
     ]
    }
   ],
   "source": [
    "print(b)\n",
    "print(b.T)"
   ]
  },
  {
   "cell_type": "code",
   "execution_count": 16,
   "id": "11f0ed96",
   "metadata": {},
   "outputs": [
    {
     "name": "stdout",
     "output_type": "stream",
     "text": [
      "[[[ 0  1]\n",
      "  [ 2  3]\n",
      "  [ 4  5]]\n",
      "\n",
      " [[ 6  7]\n",
      "  [ 8  9]\n",
      "  [10 11]]\n",
      "\n",
      " [[12 13]\n",
      "  [14 15]\n",
      "  [16 17]]\n",
      "\n",
      " [[18 19]\n",
      "  [20 21]\n",
      "  [22 23]]]\n",
      "(4, 3, 2)\n"
     ]
    }
   ],
   "source": [
    "array3 = np.array([[[0,1],[2,3],[4,5]],\n",
    "                  [[6,7],[8,9],[10,11]],\n",
    "                  [[12,13],[14,15],[16,17]],\n",
    "                  [[18,19],[20,21],[22,23]]])\n",
    "\n",
    "print(array3)\n",
    "print(array3.shape)"
   ]
  },
  {
   "cell_type": "markdown",
   "id": "064d2406",
   "metadata": {},
   "source": [
    "### 2.2 Numpy array 변형하기\n",
    " - np.arange()"
   ]
  },
  {
   "cell_type": "code",
   "execution_count": 18,
   "id": "4e941a61",
   "metadata": {},
   "outputs": [
    {
     "data": {
      "text/plain": [
       "array([0, 1, 2, 3, 4, 5, 6, 7, 8, 9])"
      ]
     },
     "execution_count": 18,
     "metadata": {},
     "output_type": "execute_result"
    }
   ],
   "source": [
    "np.arange(10)"
   ]
  },
  {
   "cell_type": "code",
   "execution_count": 19,
   "id": "83d52017",
   "metadata": {},
   "outputs": [
    {
     "data": {
      "text/plain": [
       "array([1, 2, 3, 4, 5, 6, 7, 8, 9])"
      ]
     },
     "execution_count": 19,
     "metadata": {},
     "output_type": "execute_result"
    }
   ],
   "source": [
    "np.arange(1,10)"
   ]
  },
  {
   "cell_type": "code",
   "execution_count": 20,
   "id": "27107c81",
   "metadata": {},
   "outputs": [
    {
     "data": {
      "text/plain": [
       "array([1, 3, 5, 7, 9])"
      ]
     },
     "execution_count": 20,
     "metadata": {},
     "output_type": "execute_result"
    }
   ],
   "source": [
    "np.arange(1,10,2)"
   ]
  },
  {
   "cell_type": "markdown",
   "id": "58214971",
   "metadata": {},
   "source": [
    "- reshape"
   ]
  },
  {
   "cell_type": "code",
   "execution_count": 21,
   "id": "a160095d",
   "metadata": {},
   "outputs": [
    {
     "name": "stdout",
     "output_type": "stream",
     "text": [
      "[ 1  2  3  4  5  6  7  8  9 10]\n",
      "(10,)\n"
     ]
    }
   ],
   "source": [
    "    a = np.arange(1,11)\n",
    "    print(a)\n",
    "    print(a.shape)"
   ]
  },
  {
   "cell_type": "code",
   "execution_count": 23,
   "id": "a377cd72",
   "metadata": {},
   "outputs": [
    {
     "name": "stdout",
     "output_type": "stream",
     "text": [
      "[[ 1  2  3  4  5]\n",
      " [ 6  7  8  9 10]]\n",
      "(2, 5)\n"
     ]
    }
   ],
   "source": [
    "b = a.reshape(2,5)\n",
    "print(b)\n",
    "print(b.shape)"
   ]
  },
  {
   "cell_type": "code",
   "execution_count": 25,
   "id": "5f5ecced",
   "metadata": {},
   "outputs": [
    {
     "name": "stdout",
     "output_type": "stream",
     "text": [
      "[[ 1  2]\n",
      " [ 3  4]\n",
      " [ 5  6]\n",
      " [ 7  8]\n",
      " [ 9 10]]\n",
      "(5, 2)\n"
     ]
    }
   ],
   "source": [
    "c = a.reshape(5,2)\n",
    "print(c)\n",
    "print(c.shape)"
   ]
  },
  {
   "cell_type": "code",
   "execution_count": 26,
   "id": "0d471ef1",
   "metadata": {},
   "outputs": [
    {
     "name": "stdout",
     "output_type": "stream",
     "text": [
      "[ 1  2  3  4  5  6  7  8  9 10]\n",
      "(10,)\n"
     ]
    }
   ],
   "source": [
    "d = c.reshape(10,)\n",
    "print(d)\n",
    "print(d.shape)"
   ]
  },
  {
   "cell_type": "code",
   "execution_count": 27,
   "id": "0eb8ab0b",
   "metadata": {},
   "outputs": [
    {
     "name": "stdout",
     "output_type": "stream",
     "text": [
      "[[ 1  2]\n",
      " [ 3  4]\n",
      " [ 5  6]\n",
      " [ 7  8]\n",
      " [ 9 10]]\n",
      "(5, 2)\n"
     ]
    }
   ],
   "source": [
    "e = d.reshape(-1,2)\n",
    "print(e)\n",
    "print(e.shape)"
   ]
  },
  {
   "cell_type": "code",
   "execution_count": 29,
   "id": "0385d609",
   "metadata": {},
   "outputs": [
    {
     "name": "stdout",
     "output_type": "stream",
     "text": [
      "[[ 1  2  3  4  5]\n",
      " [ 6  7  8  9 10]]\n",
      "(2, 5)\n"
     ]
    }
   ],
   "source": [
    "f = d.reshape(2,-1)\n",
    "print(f)\n",
    "print(f.shape)"
   ]
  },
  {
   "cell_type": "markdown",
   "id": "e9ed4bf8",
   "metadata": {},
   "source": [
    "### 2.3 numpy에서 제공하는 함수를 사용하여 numpy array 만들기\n"
   ]
  },
  {
   "cell_type": "code",
   "execution_count": 31,
   "id": "353df7ab",
   "metadata": {},
   "outputs": [
    {
     "data": {
      "text/plain": [
       "array([[0., 0.],\n",
       "       [0., 0.]])"
      ]
     },
     "execution_count": 31,
     "metadata": {},
     "output_type": "execute_result"
    }
   ],
   "source": [
    "np.zeros((2,2)) #모든 값 0"
   ]
  },
  {
   "cell_type": "code",
   "execution_count": 33,
   "id": "f5cdc774",
   "metadata": {},
   "outputs": [
    {
     "data": {
      "text/plain": [
       "array([[1., 1., 1.],\n",
       "       [1., 1., 1.]])"
      ]
     },
     "execution_count": 33,
     "metadata": {},
     "output_type": "execute_result"
    }
   ],
   "source": [
    "np.ones((2,3)) #모든 값 1"
   ]
  },
  {
   "cell_type": "code",
   "execution_count": 35,
   "id": "a28aa60b",
   "metadata": {},
   "outputs": [
    {
     "data": {
      "text/plain": [
       "array([[5, 5, 5],\n",
       "       [5, 5, 5]])"
      ]
     },
     "execution_count": 35,
     "metadata": {},
     "output_type": "execute_result"
    }
   ],
   "source": [
    "np.full((2,3),5) #사용자가 지정한 특정 값을 모든 값으로 하는 array 생성"
   ]
  },
  {
   "cell_type": "code",
   "execution_count": 37,
   "id": "8633e1e7",
   "metadata": {},
   "outputs": [
    {
     "data": {
      "text/plain": [
       "array([[1., 0., 0.],\n",
       "       [0., 1., 0.],\n",
       "       [0., 0., 1.]])"
      ]
     },
     "execution_count": 37,
     "metadata": {},
     "output_type": "execute_result"
    }
   ],
   "source": [
    "np.eye(3) #단위 행렬"
   ]
  },
  {
   "cell_type": "code",
   "execution_count": 40,
   "id": "c6a4897a",
   "metadata": {},
   "outputs": [
    {
     "name": "stdout",
     "output_type": "stream",
     "text": [
      "[[0 1 2]\n",
      " [3 4 5]]\n"
     ]
    },
    {
     "data": {
      "text/plain": [
       "array([[0, 1, 2],\n",
       "       [3, 4, 5]])"
      ]
     },
     "execution_count": 40,
     "metadata": {},
     "output_type": "execute_result"
    }
   ],
   "source": [
    "x = np.array([[0,1,2],[3,4,5]])\n",
    "\n",
    "print(x)\n",
    "x"
   ]
  },
  {
   "cell_type": "code",
   "execution_count": 42,
   "id": "1a8cd608",
   "metadata": {},
   "outputs": [
    {
     "data": {
      "text/plain": [
       "array([[0, 0, 0],\n",
       "       [0, 0, 0]])"
      ]
     },
     "execution_count": 42,
     "metadata": {},
     "output_type": "execute_result"
    }
   ],
   "source": [
    "np.zeros_like(x) #모든 값을 0으로 대체하고 싶을때 사용"
   ]
  },
  {
   "cell_type": "markdown",
   "id": "450bde7e",
   "metadata": {},
   "source": [
    "### random 서브모듈 함수를 통해 난수 생성\n",
    "\n",
    " - rand 함수\n",
    "  - 0,1 사이의 균일 분포에서 난수 matrix array 생성"
   ]
  },
  {
   "cell_type": "code",
   "execution_count": 43,
   "id": "0131dcf4",
   "metadata": {},
   "outputs": [
    {
     "data": {
      "text/plain": [
       "array([[[0.30531114, 0.50297347, 0.02134391],\n",
       "        [0.91955662, 0.81454713, 0.40047712],\n",
       "        [0.88202009, 0.13273599, 0.81733349]],\n",
       "\n",
       "       [[0.26466386, 0.05006526, 0.5808811 ],\n",
       "        [0.35161347, 0.85831735, 0.86023872],\n",
       "        [0.97791561, 0.07154844, 0.38946964]]])"
      ]
     },
     "execution_count": 43,
     "metadata": {},
     "output_type": "execute_result"
    }
   ],
   "source": [
    "np.random.rand(2,3,3)"
   ]
  },
  {
   "cell_type": "markdown",
   "id": "53bef7d4",
   "metadata": {},
   "source": [
    "- randn 함수\n",
    " - 평균 0, 분산 1의 표준 정규분포 난수 matrix array 생성\n"
   ]
  },
  {
   "cell_type": "code",
   "execution_count": 44,
   "id": "56eef15f",
   "metadata": {},
   "outputs": [
    {
     "data": {
      "text/plain": [
       "array([[ 0.04997603, -0.95190023,  0.44591015],\n",
       "       [ 0.41734562, -0.91598104,  0.55968764],\n",
       "       [ 1.06786417, -1.08018472,  0.14578862]])"
      ]
     },
     "execution_count": 44,
     "metadata": {},
     "output_type": "execute_result"
    }
   ],
   "source": [
    "np.random.randn(3,3)"
   ]
  },
  {
   "cell_type": "markdown",
   "id": "902c1c7b",
   "metadata": {},
   "source": [
    "- seed 함수\n",
    " - 랜덤한 값을 동일하게 다시 생성하고자 할때 사용"
   ]
  },
  {
   "cell_type": "code",
   "execution_count": 45,
   "id": "e75391d5",
   "metadata": {},
   "outputs": [
    {
     "data": {
      "text/plain": [
       "array([[[0.19151945, 0.62210877, 0.43772774],\n",
       "        [0.78535858, 0.77997581, 0.27259261],\n",
       "        [0.27646426, 0.80187218, 0.95813935]],\n",
       "\n",
       "       [[0.87593263, 0.35781727, 0.50099513],\n",
       "        [0.68346294, 0.71270203, 0.37025075],\n",
       "        [0.56119619, 0.50308317, 0.01376845]]])"
      ]
     },
     "execution_count": 45,
     "metadata": {},
     "output_type": "execute_result"
    }
   ],
   "source": [
    "np.random.seed(1234)\n",
    "np.random.rand(2,3,3)"
   ]
  },
  {
   "cell_type": "markdown",
   "id": "a641ce72",
   "metadata": {},
   "source": [
    "- choice 함수\n",
    " - 주어진 1차원 array부터 랜덤으로 샘플링\n",
    " - replace = True 복원추출(기본값)\n",
    " - replace = False 비복원추출"
   ]
  },
  {
   "cell_type": "code",
   "execution_count": 46,
   "id": "147d8b2a",
   "metadata": {},
   "outputs": [
    {
     "name": "stdout",
     "output_type": "stream",
     "text": [
      "[ 0  1  2  3  4  5  6  7  8  9 10 11 12 13 14 15 16 17 18 19]\n",
      "[[[12 18 13]\n",
      "  [16  5  8]\n",
      "  [ 1  4 10]]\n",
      "\n",
      " [[19 17 14]\n",
      "  [15  9  0]\n",
      "  [11  7  3]]]\n"
     ]
    }
   ],
   "source": [
    "x = np.arange(20)\n",
    "y = np.random.choice(x, size=(2,3,3), replace = False)\n",
    "\n",
    "print(x)\n",
    "print(y)"
   ]
  },
  {
   "cell_type": "markdown",
   "id": "ff6c2f37",
   "metadata": {},
   "source": [
    "### 3. 부분 추출하기\n",
    " - 3.1 슬라이싱\n",
    "  - numpy array는 파이썬 리스트와 마찬가지로 슬라이스(slice)를 지원함\n",
    "  - numpy array를 슬라이싱하기 위해서는 각 차원별로 슬라이스 범위를 지정해야 함"
   ]
  },
  {
   "cell_type": "code",
   "execution_count": 47,
   "id": "2b59e8f4",
   "metadata": {},
   "outputs": [
    {
     "data": {
      "text/plain": [
       "array([[1, 2, 3],\n",
       "       [4, 5, 6],\n",
       "       [7, 8, 9]])"
      ]
     },
     "execution_count": 47,
     "metadata": {},
     "output_type": "execute_result"
    }
   ],
   "source": [
    "x = np.arange(1,10).reshape(3,3)\n",
    "x"
   ]
  },
  {
   "cell_type": "code",
   "execution_count": 50,
   "id": "e7a521b3",
   "metadata": {},
   "outputs": [
    {
     "data": {
      "text/plain": [
       "3"
      ]
     },
     "execution_count": 50,
     "metadata": {},
     "output_type": "execute_result"
    }
   ],
   "source": [
    "x[0,2]"
   ]
  },
  {
   "cell_type": "code",
   "execution_count": 52,
   "id": "5fed5372",
   "metadata": {},
   "outputs": [
    {
     "data": {
      "text/plain": [
       "array([7, 8, 9])"
      ]
     },
     "execution_count": 52,
     "metadata": {},
     "output_type": "execute_result"
    }
   ],
   "source": [
    "x[2]"
   ]
  },
  {
   "cell_type": "code",
   "execution_count": 53,
   "id": "b5df2466",
   "metadata": {},
   "outputs": [
    {
     "data": {
      "text/plain": [
       "array([[4, 5, 6],\n",
       "       [7, 8, 9]])"
      ]
     },
     "execution_count": 53,
     "metadata": {},
     "output_type": "execute_result"
    }
   ],
   "source": [
    "x[1:]"
   ]
  },
  {
   "cell_type": "code",
   "execution_count": 54,
   "id": "039c4af5",
   "metadata": {},
   "outputs": [
    {
     "data": {
      "text/plain": [
       "array([[4, 5, 6]])"
      ]
     },
     "execution_count": 54,
     "metadata": {},
     "output_type": "execute_result"
    }
   ],
   "source": [
    "x[1:2]"
   ]
  },
  {
   "cell_type": "code",
   "execution_count": 55,
   "id": "35b90ba3",
   "metadata": {},
   "outputs": [
    {
     "data": {
      "text/plain": [
       "array([[2, 3],\n",
       "       [5, 6],\n",
       "       [8, 9]])"
      ]
     },
     "execution_count": 55,
     "metadata": {},
     "output_type": "execute_result"
    }
   ],
   "source": [
    "x[:,1:3]"
   ]
  },
  {
   "cell_type": "code",
   "execution_count": 56,
   "id": "5512633c",
   "metadata": {},
   "outputs": [
    {
     "data": {
      "text/plain": [
       "array([[5, 6],\n",
       "       [8, 9]])"
      ]
     },
     "execution_count": 56,
     "metadata": {},
     "output_type": "execute_result"
    }
   ],
   "source": [
    "x[1:,1:]"
   ]
  },
  {
   "cell_type": "code",
   "execution_count": 57,
   "id": "c4500e4e",
   "metadata": {},
   "outputs": [
    {
     "data": {
      "text/plain": [
       "array([[4, 5],\n",
       "       [7, 8]])"
      ]
     },
     "execution_count": 57,
     "metadata": {},
     "output_type": "execute_result"
    }
   ],
   "source": [
    "x[1:,:2]"
   ]
  },
  {
   "cell_type": "markdown",
   "id": "7c0a127c",
   "metadata": {},
   "source": [
    "### 3.2 인덱싱\n",
    "\n",
    "### 정수 인덱싱\n",
    "\n",
    "- numpy 슬라이싱이 각 array 차원별 최소-최대의 범위를 정하여 부분 집합을 구하는 것이라면, 정수 인덱싱은 각 차원별로 선택되어지는 array 요소의 인덱스들을 일렬로 나열하여 부분집합을 구하는 방식임\n",
    "- 즉, 임의의 numpy array a에 대해 a[[row1, row2], [col1, col2]] 와 같이 표현하는 것인데, 이는 a[row1, col1] 과 a[row2, col2] 라는 두 개의 array 요소의 집합을 의미함\n",
    "- 예를 들어, 아래 예제에서 a[[0, 2], [1, 3]] 은 정수 인덱싱으로서 이는 a[0, 1] 과 a[2, 3] 등 2개의 array 요소를 가리킴"
   ]
  },
  {
   "cell_type": "code",
   "execution_count": 3,
   "id": "ea3c9b13",
   "metadata": {},
   "outputs": [
    {
     "data": {
      "text/plain": [
       "array([[ 1,  2,  3,  4],\n",
       "       [ 5,  6,  7,  8],\n",
       "       [ 9, 10, 11, 12]])"
      ]
     },
     "execution_count": 3,
     "metadata": {},
     "output_type": "execute_result"
    }
   ],
   "source": [
    "lst = [[1,2,3,4],\n",
    "       [5,6,7,8],\n",
    "       [9,10,11,12]]\n",
    "a = np.array(lst)\n",
    "a"
   ]
  },
  {
   "cell_type": "code",
   "execution_count": 4,
   "id": "5cd9daf2",
   "metadata": {},
   "outputs": [
    {
     "data": {
      "text/plain": [
       "array([ 2, 12])"
      ]
     },
     "execution_count": 4,
     "metadata": {},
     "output_type": "execute_result"
    }
   ],
   "source": [
    "s = a[[0,2],[1,3]]\n",
    "s"
   ]
  },
  {
   "cell_type": "code",
   "execution_count": 6,
   "id": "257e905c",
   "metadata": {},
   "outputs": [
    {
     "data": {
      "text/plain": [
       "array([ 7, 10])"
      ]
     },
     "execution_count": 6,
     "metadata": {},
     "output_type": "execute_result"
    }
   ],
   "source": [
    "f = a[[1,2],[2,1]]\n",
    "f"
   ]
  },
  {
   "cell_type": "markdown",
   "id": "bc7c5669",
   "metadata": {},
   "source": [
    "### 다중조건 사용하기\n",
    " - 파이썬은 논리 연산자인 and, or, not 사용불가\n",
    " - &, | 사용"
   ]
  },
  {
   "cell_type": "code",
   "execution_count": 8,
   "id": "f467e23a",
   "metadata": {},
   "outputs": [
    {
     "data": {
      "text/plain": [
       "array([[1, 2, 3],\n",
       "       [4, 5, 6],\n",
       "       [7, 8, 9]])"
      ]
     },
     "execution_count": 8,
     "metadata": {},
     "output_type": "execute_result"
    }
   ],
   "source": [
    "a = np.array([[1,2,3],\n",
    "             [4,5,6],\n",
    "             [7,8,9]])\n",
    "a"
   ]
  },
  {
   "cell_type": "code",
   "execution_count": 9,
   "id": "dbe4fe58",
   "metadata": {},
   "outputs": [
    {
     "data": {
      "text/plain": [
       "array([6, 8])"
      ]
     },
     "execution_count": 9,
     "metadata": {},
     "output_type": "execute_result"
    }
   ],
   "source": [
    "a[(a%2 == 0) & (a>5) ]"
   ]
  },
  {
   "cell_type": "code",
   "execution_count": 10,
   "id": "d9347653",
   "metadata": {},
   "outputs": [
    {
     "data": {
      "text/plain": [
       "array([2, 4, 6, 7, 8, 9])"
      ]
     },
     "execution_count": 10,
     "metadata": {},
     "output_type": "execute_result"
    }
   ],
   "source": [
    "a[(a%2 == 0) | (a>5) ]"
   ]
  },
  {
   "cell_type": "markdown",
   "id": "f1de1514",
   "metadata": {},
   "source": [
    "## 4. 연산\n",
    " ### 4.1 기본 연산\n",
    "- numpy를 사용하면 array간 연산을 쉽게 실행할 수 있음\n",
    "- 연산은 +, -, *, / 등의 연산자를 사용할 수도 있고, add(), substract(), multiply(), divide() 등의 함수를 사용할 수도 있음 \n",
    "- 예를 들어, 아래 예제와 같이 array a 와 b 가 있을때, a + b를 하면 각 array 요소의 합을 구하게 됨\n",
    "- 즉 a[0]+b[0], a[1]+b[1], ... 과 같은 방식으로 결과를 리턴하게 됨"
   ]
  },
  {
   "cell_type": "code",
   "execution_count": 11,
   "id": "54c9b8e0",
   "metadata": {},
   "outputs": [
    {
     "name": "stdout",
     "output_type": "stream",
     "text": [
      "[1 2 3]\n",
      "[6 5 9]\n"
     ]
    }
   ],
   "source": [
    "a = np.array([1,2,3])\n",
    "b = np.array([6,5,9])\n",
    "\n",
    "print(a)\n",
    "print(b)"
   ]
  },
  {
   "cell_type": "code",
   "execution_count": 12,
   "id": "70d85f78",
   "metadata": {},
   "outputs": [
    {
     "name": "stdout",
     "output_type": "stream",
     "text": [
      "[ 7  7 12]\n",
      "[ 7  7 12]\n"
     ]
    }
   ],
   "source": [
    "print(a+b)\n",
    "print(np.add(a,b))"
   ]
  },
  {
   "cell_type": "code",
   "execution_count": 13,
   "id": "17fa94eb",
   "metadata": {},
   "outputs": [
    {
     "name": "stdout",
     "output_type": "stream",
     "text": [
      "[-5 -3 -6]\n",
      "[-5 -3 -6]\n"
     ]
    }
   ],
   "source": [
    "print(a-b)\n",
    "print(np.subtract(a,b))"
   ]
  },
  {
   "cell_type": "code",
   "execution_count": 14,
   "id": "46979bd9",
   "metadata": {},
   "outputs": [
    {
     "name": "stdout",
     "output_type": "stream",
     "text": [
      "[ 6 10 27]\n",
      "[ 6 10 27]\n"
     ]
    }
   ],
   "source": [
    "print(a*b)\n",
    "print(np.multiply(a,b))"
   ]
  },
  {
   "cell_type": "code",
   "execution_count": 15,
   "id": "677f0e8f",
   "metadata": {},
   "outputs": [
    {
     "name": "stdout",
     "output_type": "stream",
     "text": [
      "[0.16666667 0.4        0.33333333]\n",
      "[0.16666667 0.4        0.33333333]\n"
     ]
    }
   ],
   "source": [
    "print(a/b)\n",
    "print(np.divide(a,b))"
   ]
  },
  {
   "cell_type": "markdown",
   "id": "2795f70e",
   "metadata": {},
   "source": [
    "### 4.2 행렬 곱 연산\n",
    " - numpy에서 matrix의 product를 구하기 위해서 dot() 함수를 사용함\n",
    " - 아래 예제는 두 matrix의 product를 구한 예시"
   ]
  },
  {
   "cell_type": "code",
   "execution_count": 16,
   "id": "433bf2d5",
   "metadata": {},
   "outputs": [
    {
     "data": {
      "text/plain": [
       "array([[19, 22],\n",
       "       [43, 50]])"
      ]
     },
     "execution_count": 16,
     "metadata": {},
     "output_type": "execute_result"
    }
   ],
   "source": [
    "lst1 = [[1,2],\n",
    "       [3,4]]\n",
    "\n",
    "lst2 = [[5,6],\n",
    "       [7,8]]\n",
    "\n",
    "a = np.array(lst1)\n",
    "b = np.array(lst2)\n",
    "\n",
    "c = np.dot(a,b)\n",
    "c"
   ]
  },
  {
   "cell_type": "markdown",
   "id": "1cfe0c6b",
   "metadata": {},
   "source": [
    "### 4.3 기준이 있는 연산\n",
    "- numpy는 array간 연산을 위한 함수들을 제공하는데, 각 array 요소들을 더하는 sum() 함수, 각 array 요소들을 곱하는 prod() 함수, 평균을 구하는 mean() 함수 등이 있음\n",
    "- 이들 함수에 선택옵션으로 axis를 지정할 수 있음\n",
    "- 예를 들어 sum() 함수에서 axis가 0이면 행끼리 더하는 것(각 열의 합)이고, axis가 1이면 열끼리(각 행의 합) 더하는 것임"
   ]
  },
  {
   "cell_type": "markdown",
   "id": "7fddb2d7",
   "metadata": {},
   "source": [
    "- np.sum()"
   ]
  },
  {
   "cell_type": "code",
   "execution_count": 17,
   "id": "04b82c0a",
   "metadata": {},
   "outputs": [
    {
     "data": {
      "text/plain": [
       "array([[1, 2, 3],\n",
       "       [4, 5, 6],\n",
       "       [7, 8, 9]])"
      ]
     },
     "execution_count": 17,
     "metadata": {},
     "output_type": "execute_result"
    }
   ],
   "source": [
    "a = np.array([[1,2,3],\n",
    "             [4,5,6],\n",
    "             [7,8,9]])\n",
    "\n",
    "a"
   ]
  },
  {
   "cell_type": "code",
   "execution_count": 19,
   "id": "745205a1",
   "metadata": {},
   "outputs": [
    {
     "data": {
      "text/plain": [
       "45"
      ]
     },
     "execution_count": 19,
     "metadata": {},
     "output_type": "execute_result"
    }
   ],
   "source": [
    "np.sum(a)"
   ]
  },
  {
   "cell_type": "code",
   "execution_count": 20,
   "id": "6b498a94",
   "metadata": {},
   "outputs": [
    {
     "data": {
      "text/plain": [
       "array([12, 15, 18])"
      ]
     },
     "execution_count": 20,
     "metadata": {},
     "output_type": "execute_result"
    }
   ],
   "source": [
    "np.sum(a, axis =0)"
   ]
  },
  {
   "cell_type": "code",
   "execution_count": 21,
   "id": "f70b4518",
   "metadata": {},
   "outputs": [
    {
     "data": {
      "text/plain": [
       "array([ 6, 15, 24])"
      ]
     },
     "execution_count": 21,
     "metadata": {},
     "output_type": "execute_result"
    }
   ],
   "source": [
    "np.sum(a, axis =1)"
   ]
  },
  {
   "cell_type": "code",
   "execution_count": 22,
   "id": "d10f88b9",
   "metadata": {},
   "outputs": [
    {
     "data": {
      "text/plain": [
       "array([ 6, 15, 24])"
      ]
     },
     "execution_count": 22,
     "metadata": {},
     "output_type": "execute_result"
    }
   ],
   "source": [
    "a.sum(axis=1)"
   ]
  },
  {
   "cell_type": "markdown",
   "id": "23bce7fd",
   "metadata": {},
   "source": [
    "- np.prod() # 곱\n",
    "- np.mean() # 평균"
   ]
  },
  {
   "cell_type": "markdown",
   "id": "ef92242a",
   "metadata": {},
   "source": [
    "### 4.4 array에 nan이 있을 때 연산\n",
    " - sum() 함수를 사용할 때, array에 nan이 있는 경우 nan을 제외하고 합을 구하는 함수로 nansum()함수를 사용"
   ]
  },
  {
   "cell_type": "code",
   "execution_count": 29,
   "id": "ad6dd336",
   "metadata": {},
   "outputs": [
    {
     "data": {
      "text/plain": [
       "array([[ 1.,  2.],\n",
       "       [ 4., nan]])"
      ]
     },
     "execution_count": 29,
     "metadata": {},
     "output_type": "execute_result"
    }
   ],
   "source": [
    "a = np.array([[1,2],[4,np.nan]])\n",
    "a"
   ]
  },
  {
   "cell_type": "code",
   "execution_count": 25,
   "id": "b8af7d03",
   "metadata": {},
   "outputs": [
    {
     "data": {
      "text/plain": [
       "nan"
      ]
     },
     "execution_count": 25,
     "metadata": {},
     "output_type": "execute_result"
    }
   ],
   "source": [
    "np.sum(a)"
   ]
  },
  {
   "cell_type": "code",
   "execution_count": 26,
   "id": "79fafc0b",
   "metadata": {},
   "outputs": [
    {
     "data": {
      "text/plain": [
       "nan"
      ]
     },
     "execution_count": 26,
     "metadata": {},
     "output_type": "execute_result"
    }
   ],
   "source": [
    "a.prod()"
   ]
  },
  {
   "cell_type": "code",
   "execution_count": 30,
   "id": "a8553f62",
   "metadata": {},
   "outputs": [
    {
     "data": {
      "text/plain": [
       "7.0"
      ]
     },
     "execution_count": 30,
     "metadata": {},
     "output_type": "execute_result"
    }
   ],
   "source": [
    "np.nansum(a)"
   ]
  },
  {
   "cell_type": "code",
   "execution_count": 31,
   "id": "d4238d7d",
   "metadata": {},
   "outputs": [
    {
     "data": {
      "text/plain": [
       "8.0"
      ]
     },
     "execution_count": 31,
     "metadata": {},
     "output_type": "execute_result"
    }
   ],
   "source": [
    "np.nanprod(a)"
   ]
  },
  {
   "cell_type": "code",
   "execution_count": 37,
   "id": "691d68b7",
   "metadata": {},
   "outputs": [
    {
     "data": {
      "text/plain": [
       "array([5., 2.])"
      ]
     },
     "execution_count": 37,
     "metadata": {},
     "output_type": "execute_result"
    }
   ],
   "source": [
    "np.nansum(a, axis=0) #열의 합"
   ]
  },
  {
   "cell_type": "code",
   "execution_count": 38,
   "id": "1798eb2f",
   "metadata": {},
   "outputs": [
    {
     "data": {
      "text/plain": [
       "array([3., 4.])"
      ]
     },
     "execution_count": 38,
     "metadata": {},
     "output_type": "execute_result"
    }
   ],
   "source": [
    "np.nansum(a, axis = 1) #행의 합"
   ]
  },
  {
   "cell_type": "markdown",
   "id": "40641fdf",
   "metadata": {},
   "source": [
    "## 5. 기타함수\n",
    "\n",
    "### 5.1 where() 함수\n",
    " - 특정 조건을 만족할 때와 그렇지 않을 때 값을 각각 출력해주는 함수로 where() 함수를 사용\n",
    " - where(조건, 만족할때의 출력값, 만족하지 않을 때의 출력값)"
   ]
  },
  {
   "cell_type": "code",
   "execution_count": 40,
   "id": "629a4b11",
   "metadata": {},
   "outputs": [
    {
     "data": {
      "text/plain": [
       "array([[-0.99245009, -1.33743291,  1.21481458, -0.35214466],\n",
       "       [ 1.36081077,  0.55253634,  1.22364139, -0.23659903],\n",
       "       [ 0.95692038, -1.67469107,  0.26323924,  0.15985934],\n",
       "       [ 1.58592928, -0.28960769, -0.64400765,  1.7661651 ]])"
      ]
     },
     "execution_count": 40,
     "metadata": {},
     "output_type": "execute_result"
    }
   ],
   "source": [
    "a = np.random.randn(4,4)\n",
    "a"
   ]
  },
  {
   "cell_type": "code",
   "execution_count": 41,
   "id": "f917c26e",
   "metadata": {},
   "outputs": [
    {
     "data": {
      "text/plain": [
       "array([['음수', '음수', '양수', '음수'],\n",
       "       ['양수', '양수', '양수', '음수'],\n",
       "       ['양수', '음수', '양수', '양수'],\n",
       "       ['양수', '음수', '음수', '양수']], dtype='<U2')"
      ]
     },
     "execution_count": 41,
     "metadata": {},
     "output_type": "execute_result"
    }
   ],
   "source": [
    "np.where(a > 0, \"양수\", \"음수\")"
   ]
  }
 ],
 "metadata": {
  "kernelspec": {
   "display_name": "Python 3 (ipykernel)",
   "language": "python",
   "name": "python3"
  },
  "language_info": {
   "codemirror_mode": {
    "name": "ipython",
    "version": 3
   },
   "file_extension": ".py",
   "mimetype": "text/x-python",
   "name": "python",
   "nbconvert_exporter": "python",
   "pygments_lexer": "ipython3",
   "version": "3.9.12"
  }
 },
 "nbformat": 4,
 "nbformat_minor": 5
}
