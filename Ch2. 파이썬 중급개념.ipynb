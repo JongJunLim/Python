{
 "cells": [
  {
   "cell_type": "markdown",
   "id": "d6f85010",
   "metadata": {},
   "source": [
    "## 1. 조건문"
   ]
  },
  {
   "cell_type": "code",
   "execution_count": 1,
   "id": "0f182f6c",
   "metadata": {},
   "outputs": [
    {
     "name": "stdout",
     "output_type": "stream",
     "text": [
      "a는 100입니다\n"
     ]
    }
   ],
   "source": [
    "a = 100\n",
    "\n",
    "if a == 100 :\n",
    "    print(\"a는 100입니다\")"
   ]
  },
  {
   "cell_type": "code",
   "execution_count": 2,
   "id": "d355ea01",
   "metadata": {},
   "outputs": [
    {
     "name": "stdout",
     "output_type": "stream",
     "text": [
      "a는 100이 아닙니다\n"
     ]
    }
   ],
   "source": [
    "a = 10\n",
    "\n",
    "if a == 100 :\n",
    "    print(\"a는 100입니다\")\n",
    "else:\n",
    "    print(\"a는 100이 아닙니다\")"
   ]
  },
  {
   "cell_type": "code",
   "execution_count": 4,
   "id": "2fc99300",
   "metadata": {},
   "outputs": [
    {
     "name": "stdout",
     "output_type": "stream",
     "text": [
      "a는 100보다 큽니다\n"
     ]
    }
   ],
   "source": [
    "a = 101\n",
    "\n",
    "if a < 100 :\n",
    "    print(\"a는 100보다 작습니다\")\n",
    "elif a > 100 : \n",
    "    print(\"a는 100보다 큽니다\")\n",
    "else :\n",
    "    print(\"a는 100 입니다\")"
   ]
  },
  {
   "cell_type": "code",
   "execution_count": 5,
   "id": "f3a05fc1",
   "metadata": {},
   "outputs": [
    {
     "name": "stdout",
     "output_type": "stream",
     "text": [
      "100\n"
     ]
    }
   ],
   "source": [
    "a = 10\n",
    "b = [10, 20, 30]\n",
    "\n",
    "if a in b :\n",
    "    print(a*10)\n",
    "else :\n",
    "    print(a)"
   ]
  },
  {
   "cell_type": "code",
   "execution_count": null,
   "id": "c7f13365",
   "metadata": {},
   "outputs": [],
   "source": []
  }
 ],
 "metadata": {
  "kernelspec": {
   "display_name": "Python 3 (ipykernel)",
   "language": "python",
   "name": "python3"
  },
  "language_info": {
   "codemirror_mode": {
    "name": "ipython",
    "version": 3
   },
   "file_extension": ".py",
   "mimetype": "text/x-python",
   "name": "python",
   "nbconvert_exporter": "python",
   "pygments_lexer": "ipython3",
   "version": "3.9.12"
  }
 },
 "nbformat": 4,
 "nbformat_minor": 5
}
