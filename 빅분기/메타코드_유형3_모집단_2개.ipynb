{
 "cells": [
  {
   "cell_type": "markdown",
   "metadata": {},
   "source": [
    "## 유형 3"
   ]
  },
  {
   "cell_type": "markdown",
   "metadata": {},
   "source": [
    "### 1. 가설 검정\n",
    "- <span style= \"color: #000000; background-color: #FFF5B1;\">모평균 검정 : 검정통계량, p-value, 귀무가설 판단</span>\n",
    "    - 모집단 1개 : 단일 표본\n",
    "    - <span style= \"color: #000000; background-color: #FFF5B1;\">모집단 2개 : 대응표본(쌍체), 독립표본</span>\n",
    "    - 모집단 3개 이상 : ANOVA(분산분석)\n",
    "<br><br>\n",
    "- 카이제곱 검정 : 기댓값, 검정통계량, p-value, 귀무가설 판단\n",
    "    - 적합성 검정\n",
    "    - 독립성 검정\n",
    "\n",
    "### 2. 상관분석\n",
    ": 상관계수, 기댓값, 검정통계량, p-value, 귀무가설 판단\n",
    "- 피어슨 상관계수\n",
    "\n",
    "### 3. 회귀분석\n",
    ": RSQ, odds, odds ratio, 회귀계수, p-value 값\n",
    "- 다중 선형회귀\n",
    "- 로지스틱 회귀"
   ]
  },
  {
   "cell_type": "markdown",
   "metadata": {},
   "source": [
    "---"
   ]
  },
  {
   "cell_type": "markdown",
   "metadata": {},
   "source": [
    "### 모집단 2개\n",
    "\n",
    "### 검정 방법\n",
    "\n",
    "#### 1. 대응표본(쌍체) : 동일한 객체의 전 vs 후 평균 데이터 비교\n",
    "\n",
    " 1) (정규성 O) 대응표본(쌍체) t 검정(paired t-test) : 동일한 객체의 전 vs 후 평균 비교\n",
    " 2) (정규성 X) 윌콕슨(wilcoxon) 부호순위 검정\n",
    "\n",
    "##### 대응표본(쌍체) t 검정(paired t-test)\n",
    "1. 가설 설정\n",
    "2. 유의수준 확인 <span style= \"color: #CC0000; background-color: #FFF5B1;\">(주의) 차이값에 대한 정규성</span>\n",
    "3. 정규성 검정\n",
    "4. 검정실시 (통계량, p-value 확인)\n",
    "5. 귀무가설 기각여부 결정\n",
    "\n",
    "#### 2. 독립표본 : A 집단의 평균 vs B 집단의 평균\n",
    "\n",
    " 1) (정규성 O) 독립표본 t 검정(2 samplet-test)\n",
    " 2) (정규성 X) 윌콕슨(wilcoxon) 순위합 검정 (ranksums)\n",
    "\n",
    "##### 독립표본 t 검정(2 samplet-test)\n",
    "1. 가설 설정\n",
    "2. 유의수준 확인 <span style= \"color: #CC0000; background-color: #FFF5B1;\">(주의) 두 집단 모두 정규성을 따를 경우!</span>\n",
    "3. 정규성 검정\n",
    "4. <span style= \"color: #CC0000; background-color: #FFF5B1;\">등분산 검정</span>\n",
    "5. 검정실시 (통계량, p-value 확인) <span style= \"color: #CC0000; background-color: #FFF5B1;\">(주의) 등분산 여부 확인</span>\n",
    "6. 귀무가설 기각여부 결정"
   ]
  },
  {
   "cell_type": "markdown",
   "metadata": {},
   "source": [
    "#### Case 1) 대응표본(쌍체) t 검정(paired t-test)\n",
    "Q. 다음은 혈압약을 먹은 전,후의 혈압 데이터이다.<br>\n",
    "혈압약을 먹기 전, 후의 차이가 있는지 쌍체 t 검정을 실시하시오. (유의수준 5%)\n",
    "<br>\n",
    "- before : 혈압약을 먹기 전 혈압, after : 혈압약을 먹은 후의 혈압\n",
    "- Ho(귀무가설) : after - before = 0 (전,후 혈압의 차이가 없다.)\n",
    "- H1(대립가설) : after - before != 0 (전,후 혈압의 차이가 있다.) "
   ]
  },
  {
   "cell_type": "code",
   "execution_count": 1,
   "metadata": {},
   "outputs": [],
   "source": [
    "import pandas as pd\n",
    "import numpy as np\n",
    "import scipy.stats as stats\n",
    "from scipy.stats import shapiro"
   ]
  },
  {
   "cell_type": "code",
   "execution_count": 2,
   "metadata": {},
   "outputs": [
    {
     "name": "stdout",
     "output_type": "stream",
     "text": [
      "   before  after\n",
      "0     120    110\n",
      "1     135    132\n",
      "2     122    123\n",
      "3     124    119\n",
      "4     135    123\n"
     ]
    }
   ],
   "source": [
    "# 데이터 만들기\n",
    "df = pd.DataFrame({\n",
    "    'before' : [120, 135, 122, 124, 135, 122, 145, 160,155, 142, 144, 135, 167],\n",
    "    'after' : [110, 132, 123, 119, 123, 115, 140, 162, 142, 138, 135, 142, 160]\n",
    "})\n",
    "\n",
    "print(df.head())"
   ]
  },
  {
   "cell_type": "code",
   "execution_count": 3,
   "metadata": {},
   "outputs": [],
   "source": [
    "# 1. 가설 설정\n",
    "# Ho(귀무가설) : after - before = 0 (전,후 혈압의 차이가 없다., 약의 효과가 없다.)\n",
    "# H1(대립가설) : after - before != 0 (전,후 혈압의 차이가 있다. 약의 효과가 있다.)  "
   ]
  },
  {
   "cell_type": "code",
   "execution_count": 4,
   "metadata": {},
   "outputs": [],
   "source": [
    "# 2. 유의수준 확인 : 유의수준 5%로 확인"
   ]
  },
  {
   "cell_type": "code",
   "execution_count": 5,
   "metadata": {},
   "outputs": [
    {
     "name": "stdout",
     "output_type": "stream",
     "text": [
      "0.9589 0.7363\n"
     ]
    }
   ],
   "source": [
    "# 정규성 검정 (차이값에 대해 정규성 확인)\n",
    "# H0(귀무가설) : 정규분포를 따른다 \n",
    "# H1(대립가설) : 정규분포를 따르지 않는다\n",
    "statistic, pvalue = stats.shapiro(df['after']-df['before'])\n",
    "print(round(statistic,4), round(pvalue,4))"
   ]
  },
  {
   "cell_type": "markdown",
   "metadata": {},
   "source": [
    "- p-value 값이 유의수준(0.05) 보다 크다. <br>\n",
    " -> 귀무가설 채택 (정규성검정의 H0 : 정규분포를 따른다)"
   ]
  },
  {
   "cell_type": "code",
   "execution_count": 6,
   "metadata": {},
   "outputs": [
    {
     "name": "stdout",
     "output_type": "stream",
     "text": [
      "-3.1382 0.0086\n"
     ]
    }
   ],
   "source": [
    "# 4.1 (정규성 o) 대응표본(쌍체) t 검정 (paired t-test)\n",
    "statistic, pvalue = stats.ttest_rel(df['after'],df['before'], alternative= 'two-sided')\n",
    "print(round(statistic,4), round(pvalue,4))"
   ]
  },
  {
   "cell_type": "code",
   "execution_count": 7,
   "metadata": {},
   "outputs": [
    {
     "name": "stdout",
     "output_type": "stream",
     "text": [
      "11.0 0.0134\n"
     ]
    }
   ],
   "source": [
    "# 4.2 (정규성 ㅌ) wilcoxon 부호순위 검정\n",
    "statistic, pvalue = stats.wilcoxon(df['after']-df['before'], alternative= 'two-sided')\n",
    "print(round(statistic,4), round(pvalue,4))"
   ]
  },
  {
   "cell_type": "code",
   "execution_count": 8,
   "metadata": {},
   "outputs": [],
   "source": [
    "# 5. 귀무가설 기각여부 결정 (채택/기각)\n",
    "# p-value 값이 0.05 보다 작기 때문에(0.0086) 귀무가설을 기각한다.\n",
    "# 즉, 약을 먹기 전과 먹은 후의 혈압 평균은 같지 않다. (= 효과가 있다.)\n",
    "\n",
    "# 답 : 귀무가설 기각"
   ]
  },
  {
   "cell_type": "code",
   "execution_count": 9,
   "metadata": {},
   "outputs": [
    {
     "name": "stdout",
     "output_type": "stream",
     "text": [
      "138.92307692307693\n",
      "133.92307692307693\n"
     ]
    }
   ],
   "source": [
    "print(df['before'].mean())\n",
    "print(df['after'].mean())"
   ]
  },
  {
   "cell_type": "markdown",
   "metadata": {},
   "source": [
    "Q. 다음은 혈압약을 먹은 전,후의 혈압 데이터이다.<br>\n",
    "혈압약을 먹은 후 혈압이 감소했는지 확인하기 위해 쌍체 t 검정을 실시하시오. (유의수준 5%)\n",
    "<br>\n",
    "- before : 혈압약을 먹기 전 혈압, after : 혈압약을 먹은 후의 혈압\n",
    "- Ho(귀무가설) : after - before >= 0\n",
    "- H1(대립가설) : after - before < 0 "
   ]
  },
  {
   "cell_type": "code",
   "execution_count": 10,
   "metadata": {},
   "outputs": [
    {
     "name": "stdout",
     "output_type": "stream",
     "text": [
      "   before  after\n",
      "0     120    110\n",
      "1     135    132\n",
      "2     122    123\n",
      "3     124    119\n",
      "4     135    123\n"
     ]
    }
   ],
   "source": [
    "# 데이터 만들기\n",
    "df = pd.DataFrame({\n",
    "    'before' : [120, 135, 122, 124, 135, 122, 145, 160,155, 142, 144, 135, 167],\n",
    "    'after' : [110, 132, 123, 119, 123, 115, 140, 162, 142, 138, 135, 142, 160]\n",
    "})\n",
    "\n",
    "print(df.head())"
   ]
  },
  {
   "cell_type": "code",
   "execution_count": 11,
   "metadata": {},
   "outputs": [],
   "source": [
    "# 1. 가설 설정\n",
    "# Ho(귀무가설) : 약을 먹은 후 혈압이 같거나 증가했다. (after - before >= 0)\n",
    "# H1(대립가설) : 약을 먹은 후 혈압이 감소했다. (after - before < 0)"
   ]
  },
  {
   "cell_type": "code",
   "execution_count": 12,
   "metadata": {},
   "outputs": [],
   "source": [
    "# 2. 유의수준 확인 : 유의수준 5%로 확인"
   ]
  },
  {
   "cell_type": "code",
   "execution_count": 13,
   "metadata": {},
   "outputs": [
    {
     "name": "stdout",
     "output_type": "stream",
     "text": [
      "0.9589 0.7363\n"
     ]
    }
   ],
   "source": [
    "# 3.정규성 검정 (차이값에 대해 정규성 확인)\n",
    "# H0(귀무가설) : 정규분포를 따른다 \n",
    "# H1(대립가설) : 정규분포를 따르지 않는다\n",
    "statistic, pvalue = stats.shapiro(df['after']-df['before'])\n",
    "print(round(statistic,4), round(pvalue,4))"
   ]
  },
  {
   "cell_type": "markdown",
   "metadata": {},
   "source": [
    "- p-value 값이 유의수준(0.05) 보다 크다. <br>\n",
    " -> 귀무가설 채택 (정규성검정의 H0 : 정규분포를 따른다)"
   ]
  },
  {
   "cell_type": "code",
   "execution_count": 14,
   "metadata": {},
   "outputs": [
    {
     "name": "stdout",
     "output_type": "stream",
     "text": [
      "-3.1382 0.0043\n"
     ]
    }
   ],
   "source": [
    "# 4.1 (정규성 o) 대응표본(쌍체) t 검정 (paired t-test)\n",
    "statistic, pvalue = stats.ttest_rel(df['after'],df['before'], alternative= 'less')\n",
    "print(round(statistic,4), round(pvalue,4))"
   ]
  },
  {
   "cell_type": "code",
   "execution_count": 15,
   "metadata": {},
   "outputs": [
    {
     "name": "stdout",
     "output_type": "stream",
     "text": [
      "11.0 0.0067\n"
     ]
    }
   ],
   "source": [
    "# 4.2 (정규성 ㅌ) wilcoxon 부호순위 검정\n",
    "statistic, pvalue = stats.wilcoxon(df['after']-df['before'], alternative= 'less')\n",
    "print(round(statistic,4), round(pvalue,4))"
   ]
  },
  {
   "cell_type": "code",
   "execution_count": 16,
   "metadata": {},
   "outputs": [],
   "source": [
    "# 5. 귀무가설 기각여부 결정 (채택/기각)\n",
    "# p-value 값이 0.05 보다 작기 때문에(0.0043) 귀무가설을 기각한다.\n",
    "# 즉, 약을 먹은 후 혈압이 감소했다. (after - before < 0)\n",
    "\n",
    "# 답 : 귀무가설 기각"
   ]
  },
  {
   "cell_type": "markdown",
   "metadata": {},
   "source": [
    "---\n",
    "#### Case 2) 독립표본 t 검정(2 sample t-test)\n",
    "Q. 다음은 A그룹과 B그룹 인원의 혈압 데이터이다<br>\n",
    "두 그룹의 혈압평균이 다르다고 할 수 있는지 독립표본 t-test를 실시하시오 (유의수준 5%)\n",
    "<br>\n",
    "- A : A그룹 인원의 혈압, B : B그룹 인원의 혈압\n",
    "- Ho(귀무가설) : A = B (A,B 그룹 혈압 평균이 같다.)\n",
    "- H1(대립가설) : A != B (A,B 그룹 혈압 평균이 같지 않다.) \n",
    "\n"
   ]
  },
  {
   "cell_type": "code",
   "execution_count": 17,
   "metadata": {},
   "outputs": [
    {
     "name": "stdout",
     "output_type": "stream",
     "text": [
      "     A    B\n",
      "0  120  110\n",
      "1  135  132\n",
      "2  122  123\n",
      "3  124  119\n",
      "4  135  123\n"
     ]
    }
   ],
   "source": [
    "# 데이터 만들기\n",
    "df = pd.DataFrame({\n",
    "    'A' : [120, 135, 122, 124, 135, 122, 145, 160,155, 142, 144, 135, 167],\n",
    "    'B' : [110, 132, 123, 119, 123, 115, 140, 162, 142, 138, 135, 142, 160]\n",
    "})\n",
    "\n",
    "print(df.head())"
   ]
  },
  {
   "cell_type": "code",
   "execution_count": 18,
   "metadata": {},
   "outputs": [],
   "source": [
    "# 1. 가설 설정\n",
    "# Ho(귀무가설) : A,B 그룹 혈압 평균이 같다. (A = B)\n",
    "# H1(대립가설) : A,B 그룹 혈압 평균이 같지 않다. (A != B)"
   ]
  },
  {
   "cell_type": "code",
   "execution_count": 19,
   "metadata": {},
   "outputs": [],
   "source": [
    "# 2. 유의수준 확인 : 유의수준 5%로 확인"
   ]
  },
  {
   "cell_type": "code",
   "execution_count": 20,
   "metadata": {},
   "outputs": [
    {
     "name": "stdout",
     "output_type": "stream",
     "text": [
      "0.9314 0.3559\n",
      "0.9498 0.5956\n"
     ]
    }
   ],
   "source": [
    "# 3. 정규성 검정\n",
    "# H0(귀무가설) : 정규분포를 따른다 \n",
    "# H1(대립가설) : 정규분포를 따르지 않는다\n",
    "\n",
    "statisticA, pvalueA = stats.shapiro(df['A'])\n",
    "statisticB, pvalueB = stats.shapiro(df['B'])\n",
    "\n",
    "print(round(statisticA,4), round(pvalueA,4))\n",
    "print(round(statisticB,4), round(pvalueB,4))"
   ]
  },
  {
   "cell_type": "markdown",
   "metadata": {},
   "source": [
    "- 두 집단의 p-value 값이 유의수준(0.05) 보다 크다. <br>\n",
    " -> 귀무가설 채택 (정규성검정의 H0 : 정규분포를 따른다)\n",
    "- <span style= \"color: #CC0000; background-color: #FFF5B1;\">만약 하나라도 정규분포를 따르지 않는다면, 비모수 검정 방법을 써야한다. (윌콕슨의 순위합 검정 ranksums)</span>\n"
   ]
  },
  {
   "cell_type": "code",
   "execution_count": 21,
   "metadata": {},
   "outputs": [
    {
     "name": "stdout",
     "output_type": "stream",
     "text": [
      "0.0279 0.8673\n"
     ]
    }
   ],
   "source": [
    "# 4. 등분산성 검정\n",
    "# H0(귀무가설) : 등분산 한다.\n",
    "# H1(대립가설) : 등분산 하지 않는다.\n",
    "\n",
    "statistic, pvalue = stats.bartlett(df['A'],df['B'])\n",
    "print(round(statistic,4), round(pvalue,4))"
   ]
  },
  {
   "cell_type": "markdown",
   "metadata": {},
   "source": [
    "- p-value 값이 유의수준(0.05) 보다 크다. <br>\n",
    " -> 귀무가설 채택 (정규성검정의 H0 : 등분산성을 따른다고 할 수 있다)"
   ]
  },
  {
   "cell_type": "code",
   "execution_count": 22,
   "metadata": {},
   "outputs": [
    {
     "name": "stdout",
     "output_type": "stream",
     "text": [
      "0.8192 0.4207\n"
     ]
    }
   ],
   "source": [
    "# 5.1 (정규성 o, 등분산성 o/x) t 검정\n",
    "statistic, pvalue = stats.ttest_ind(df['A'],df['B'], \n",
    "                                    equal_var= True, # 만약 등분산 하지 않으면 False로 설정\n",
    "                                    alternative= 'two-sided')\n",
    "\n",
    "print(round(statistic,4), round(pvalue,4))"
   ]
  },
  {
   "cell_type": "code",
   "execution_count": 23,
   "metadata": {},
   "outputs": [
    {
     "name": "stdout",
     "output_type": "stream",
     "text": [
      "0.8462 0.3975\n"
     ]
    }
   ],
   "source": [
    "# 5.2 (정규성 x) 윌콕슨의 순위합 검정\n",
    "statistic, pvalue = stats.ranksums(df['A'],df['B'], alternative= 'two-sided')\n",
    "\n",
    "print(round(statistic,4), round(pvalue,4))"
   ]
  },
  {
   "cell_type": "code",
   "execution_count": 24,
   "metadata": {},
   "outputs": [],
   "source": [
    "# 6. 귀무가설 기각여부 결정 (채택/기각)\n",
    "# p-value 값이 0.05 보다 크기 때문에(0.4207) 귀무가설을 채택한다. ( = 기각할 수 없다.)\n",
    "# 즉, A,B 그룹 혈압 평균이 같다고 할 수 있다 (A = B)\n",
    "\n",
    "# 답 : 귀무가설 채택"
   ]
  },
  {
   "cell_type": "code",
   "execution_count": 25,
   "metadata": {},
   "outputs": [
    {
     "name": "stdout",
     "output_type": "stream",
     "text": [
      "138.9231\n",
      "133.9231\n"
     ]
    }
   ],
   "source": [
    "print(round(df['A'].mean(),4))\n",
    "print(round(df['B'].mean(),4))"
   ]
  },
  {
   "cell_type": "markdown",
   "metadata": {},
   "source": [
    "Q. 다음은 A그룹과 B그룹 인원의 혈압 데이터이다<br>\n",
    "A 그룹의 혈압 평균이 B 그룹보다 크다고 할 수 있는지 독립표본 t-test를 실시하시오 (유의수준 5%)\n",
    "<br>\n",
    "- A : A그룹 인원의 혈압, B : B그룹 인원의 혈압\n",
    "- Ho(귀무가설) : A - B  <= 0 or A <= B (A 그룹 혈압 평균은 B 그룹 혈압 평균보다 작거나 같다.)\n",
    "- H1(대립가설) : A - B  > 0 or A > B (A 그룹 혈압 평균은 B 그룹 혈압 평균보다 크다.)"
   ]
  },
  {
   "cell_type": "code",
   "execution_count": 26,
   "metadata": {},
   "outputs": [
    {
     "name": "stdout",
     "output_type": "stream",
     "text": [
      "     A    B\n",
      "0  120  110\n",
      "1  135  132\n",
      "2  122  123\n",
      "3  124  119\n",
      "4  135  123\n"
     ]
    }
   ],
   "source": [
    "# 데이터 만들기\n",
    "df = pd.DataFrame({\n",
    "    'A' : [120, 135, 122, 124, 135, 122, 145, 160,155, 142, 144, 135, 167],\n",
    "    'B' : [110, 132, 123, 119, 123, 115, 140, 162, 142, 138, 135, 142, 160]\n",
    "})\n",
    "\n",
    "print(df.head())"
   ]
  },
  {
   "cell_type": "code",
   "execution_count": 27,
   "metadata": {},
   "outputs": [],
   "source": [
    "# 1. 가설 설정\n",
    "# Ho(귀무가설) : A 그룹 혈압 평균은 B 그룹 혈압 평균보다 작거나 같다. (A - B  <= 0 or A <= B)\n",
    "# H1(대립가설) : A 그룹 혈압 평균은 B 그룹 혈압 평균보다 크다. (A - B  > 0 or A > B)"
   ]
  },
  {
   "cell_type": "code",
   "execution_count": 28,
   "metadata": {},
   "outputs": [],
   "source": [
    "# 2. 유의수준 확인 : 유의수준 5%로 확인"
   ]
  },
  {
   "cell_type": "code",
   "execution_count": 29,
   "metadata": {},
   "outputs": [
    {
     "name": "stdout",
     "output_type": "stream",
     "text": [
      "0.9314 0.3559\n",
      "0.9498 0.5956\n"
     ]
    }
   ],
   "source": [
    "# 3.정규성 검정\n",
    "# H0(귀무가설) : 정규분포를 따른다 \n",
    "# H1(대립가설) : 정규분포를 따르지 않는다\n",
    "\n",
    "statisticA, pvalueA = stats.shapiro(df['A'])\n",
    "statisticB, pvalueB = stats.shapiro(df['B'])\n",
    "\n",
    "print(round(statisticA,4), round(pvalueA,4))\n",
    "print(round(statisticB,4), round(pvalueB,4))"
   ]
  },
  {
   "cell_type": "markdown",
   "metadata": {},
   "source": [
    "- 두 집단의 p-value 값이 유의수준(0.05) 보다 크다. <br>\n",
    " -> 귀무가설 채택 (정규성검정의 H0 : 정규분포를 따른다)\n",
    "- <span style= \"color: #CC0000; background-color: #FFF5B1;\">만약 하나라도 정규분포를 따르지 않는다면, 비모수 검정 방법을 써야한다. (윌콕슨의 순위합 검정 ranksums)</span>"
   ]
  },
  {
   "cell_type": "code",
   "execution_count": 30,
   "metadata": {},
   "outputs": [
    {
     "name": "stdout",
     "output_type": "stream",
     "text": [
      "0.0279 0.8673\n"
     ]
    }
   ],
   "source": [
    "# 4. 등분산성 검정\n",
    "# H0(귀무가설) : 등분산 한다.\n",
    "# H1(대립가설) : 등분산 하지 않는다.\n",
    "\n",
    "statistic, pvalue = stats.bartlett(df['A'],df['B'])\n",
    "print(round(statistic,4), round(pvalue,4))"
   ]
  },
  {
   "cell_type": "markdown",
   "metadata": {},
   "source": [
    "- p-value 값이 유의수준(0.05) 보다 크다. <br>\n",
    " -> 귀무가설 채택 (정규성검정의 H0 : 등분산성을 따른다고 할 수 있다)"
   ]
  },
  {
   "cell_type": "code",
   "execution_count": 31,
   "metadata": {},
   "outputs": [
    {
     "name": "stdout",
     "output_type": "stream",
     "text": [
      "0.8192 0.2104\n"
     ]
    }
   ],
   "source": [
    "# 5.1 (정규성 o, 등분산성 o/x) t 검정\n",
    "statistic, pvalue = stats.ttest_ind(df['A'],df['B'], \n",
    "                                    equal_var= True, # 만약 등분산 하지 않으면 False로 설정\n",
    "                                    alternative= 'greater')\n",
    "\n",
    "print(round(statistic,4), round(pvalue,4))"
   ]
  },
  {
   "cell_type": "code",
   "execution_count": 32,
   "metadata": {},
   "outputs": [
    {
     "name": "stdout",
     "output_type": "stream",
     "text": [
      "0.8462 0.1987\n"
     ]
    }
   ],
   "source": [
    "# 5.2 (정규성 x) 윌콕슨의 순위합 검정\n",
    "statistic, pvalue = stats.ranksums(df['A'],df['B'],\n",
    "                                   alternative= 'greater') # A,B 순서 중요\n",
    "\n",
    "print(round(statistic,4), round(pvalue,4))"
   ]
  },
  {
   "cell_type": "code",
   "execution_count": 33,
   "metadata": {},
   "outputs": [],
   "source": [
    "# 6. 귀무가설 기각여부 결정 (채택/기각)\n",
    "# p-value 값이 0.05 보다 크기 때문에(0.2107) 귀무가설을 채택한다. ( = 기각할 수 없다.)\n",
    "# 즉, A 그룹 혈압 평균은 B 그룹 혈압 평균보다 작거나 같다고 할 수 있다. (A - B  <= 0 or A <= B)\n",
    "# (A 그룹의 혈압 평균이 B 그룹보다 크닥 할 수 없다.)\n",
    "\n",
    "# 답 : 귀무가설 채택"
   ]
  }
 ],
 "metadata": {
  "kernelspec": {
   "display_name": "class101",
   "language": "python",
   "name": "python3"
  },
  "language_info": {
   "codemirror_mode": {
    "name": "ipython",
    "version": 3
   },
   "file_extension": ".py",
   "mimetype": "text/x-python",
   "name": "python",
   "nbconvert_exporter": "python",
   "pygments_lexer": "ipython3",
   "version": "3.8.16"
  }
 },
 "nbformat": 4,
 "nbformat_minor": 2
}
