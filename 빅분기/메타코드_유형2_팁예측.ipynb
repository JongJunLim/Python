{
 "cells": [
  {
   "cell_type": "markdown",
   "metadata": {},
   "source": [
    "## 유형 2. 데이터 분석 순서"
   ]
  },
  {
   "cell_type": "markdown",
   "metadata": {},
   "source": [
    "1. 라이브러리 및 데이터 확인<br>\n",
    "2. 데이터 탐색<br>\n",
    "3. 데이터 전처리 및 분리<br>\n",
    "4. 모델링 및 성능 평가<br>\n",
    "5. 예측값 제출<br>\n",
    "---"
   ]
  },
  {
   "cell_type": "markdown",
   "metadata": {},
   "source": [
    "## Q. 팁 예측하기\n",
    "### 1. 라이브러리 및 데이터 확인"
   ]
  },
  {
   "cell_type": "code",
   "execution_count": 1,
   "metadata": {},
   "outputs": [],
   "source": [
    "###############  복사 영역  ###############\n",
    "# 실기 시험 데이터셋으로 셋팅하기 (수정금지)\n",
    "import pandas as pd\n",
    "import numpy as np\n",
    "import seaborn as sns\n",
    "# tips 데이터셋 로드\n",
    "df = sns.load_dataset('tips')\n",
    "\n",
    "x = df.drop(['tip'], axis=1) \n",
    "y = df['tip']\n",
    "\n",
    "\n",
    "# 실기 시험 데이터셋으로 셋팅하기 (수정금지)\n",
    "from sklearn.model_selection import train_test_split\n",
    "x_train, x_test, y_train, y_test = train_test_split(x, y, test_size=0.2, random_state=2023)\n",
    "\n",
    "x_test = pd.DataFrame(x_test.reset_index())\n",
    "x_train = pd.DataFrame(x_train.reset_index())\n",
    "y_train = pd.DataFrame(y_train.reset_index())\n",
    "\n",
    "x_test.rename(columns={'index':'cust_id'}, inplace=True)\n",
    "x_train.rename(columns={'index':'cust_id'}, inplace=True)\n",
    "y_train.columns = ['cust_id', 'target'] "
   ]
  },
  {
   "cell_type": "markdown",
   "metadata": {},
   "source": [
    "- total_bill (총 청구액) : 손님의 식사 총 청구액\n",
    "- tip (팁) : 팁의 양\n",
    "- sex (성별) : 손님의 성별\n",
    "- smoker (흡연 여부) : 손님의 흡연 여부\n",
    "- day (요일) : 식사가 이루어진 요일\n",
    "- time (시간) : 점심 또는 저녁 중 언제 식사가 이루어졌는지\n",
    "- size (인원 수) : 식사에 참석한 인원 수"
   ]
  },
  {
   "cell_type": "markdown",
   "metadata": {},
   "source": [
    "### 2. 데이터 탐색"
   ]
  },
  {
   "cell_type": "code",
   "execution_count": 2,
   "metadata": {},
   "outputs": [
    {
     "name": "stdout",
     "output_type": "stream",
     "text": [
      "   cust_id  total_bill     sex smoker  day    time  size\n",
      "0      154       19.77    Male     No  Sun  Dinner     4\n",
      "1        4       24.59  Female     No  Sun  Dinner     4\n",
      "2       30        9.55    Male     No  Sat  Dinner     2\n",
      "3       75       10.51    Male     No  Sat  Dinner     2\n",
      "4       33       20.69  Female     No  Sat  Dinner     4\n",
      "---\n",
      "   cust_id  total_bill     sex smoker  day    time  size\n",
      "0      158       13.39  Female     No  Sun  Dinner     2\n",
      "1      186       20.90  Female    Yes  Sun  Dinner     3\n",
      "2       21       20.29  Female     No  Sat  Dinner     2\n",
      "3       74       14.73  Female     No  Sat  Dinner     2\n",
      "4       43        9.68    Male     No  Sun  Dinner     2\n",
      "---\n",
      "   cust_id  target\n",
      "0      158    2.61\n",
      "1      186    3.50\n",
      "2       21    2.75\n",
      "3       74    2.20\n",
      "4       43    1.32\n"
     ]
    }
   ],
   "source": [
    "# \n",
    "print(x_test.head())\n",
    "print(\"---\")\n",
    "print(x_train.head())\n",
    "print(\"---\")\n",
    "print(y_train.head())"
   ]
  },
  {
   "cell_type": "code",
   "execution_count": 3,
   "metadata": {},
   "outputs": [
    {
     "name": "stdout",
     "output_type": "stream",
     "text": [
      "<class 'pandas.core.frame.DataFrame'>\n",
      "RangeIndex: 49 entries, 0 to 48\n",
      "Data columns (total 7 columns):\n",
      " #   Column      Non-Null Count  Dtype   \n",
      "---  ------      --------------  -----   \n",
      " 0   cust_id     49 non-null     int64   \n",
      " 1   total_bill  49 non-null     float64 \n",
      " 2   sex         49 non-null     category\n",
      " 3   smoker      49 non-null     category\n",
      " 4   day         49 non-null     category\n",
      " 5   time        49 non-null     category\n",
      " 6   size        49 non-null     int64   \n",
      "dtypes: category(4), float64(1), int64(2)\n",
      "memory usage: 2.0 KB\n",
      "None\n",
      "---\n",
      "<class 'pandas.core.frame.DataFrame'>\n",
      "RangeIndex: 195 entries, 0 to 194\n",
      "Data columns (total 7 columns):\n",
      " #   Column      Non-Null Count  Dtype   \n",
      "---  ------      --------------  -----   \n",
      " 0   cust_id     195 non-null    int64   \n",
      " 1   total_bill  195 non-null    float64 \n",
      " 2   sex         195 non-null    category\n",
      " 3   smoker      195 non-null    category\n",
      " 4   day         195 non-null    category\n",
      " 5   time        195 non-null    category\n",
      " 6   size        195 non-null    int64   \n",
      "dtypes: category(4), float64(1), int64(2)\n",
      "memory usage: 6.0 KB\n",
      "None\n",
      "---\n",
      "<class 'pandas.core.frame.DataFrame'>\n",
      "RangeIndex: 195 entries, 0 to 194\n",
      "Data columns (total 2 columns):\n",
      " #   Column   Non-Null Count  Dtype  \n",
      "---  ------   --------------  -----  \n",
      " 0   cust_id  195 non-null    int64  \n",
      " 1   target   195 non-null    float64\n",
      "dtypes: float64(1), int64(1)\n",
      "memory usage: 3.2 KB\n",
      "None\n"
     ]
    }
   ],
   "source": [
    "# 변수명과 데이터 타입이 매칭되는지, 결측치 있는지 확인\n",
    "print(x_test.info())\n",
    "print(\"---\")\n",
    "print(x_train.info())\n",
    "print(\"---\")\n",
    "print(y_train.info())"
   ]
  },
  {
   "cell_type": "code",
   "execution_count": 4,
   "metadata": {},
   "outputs": [
    {
     "name": "stdout",
     "output_type": "stream",
     "text": [
      "           cust_id  total_bill   sex smoker  day    time       size\n",
      "count    49.000000   49.000000    49     49   49      49  49.000000\n",
      "unique         NaN         NaN     2      2    4       2        NaN\n",
      "top            NaN         NaN  Male     No  Sat  Dinner        NaN\n",
      "freq           NaN         NaN    32     31   16      34        NaN\n",
      "mean    119.285714   18.716531   NaN    NaN  NaN     NaN   2.673469\n",
      "std      70.918674    8.669864   NaN    NaN  NaN     NaN   0.987162\n",
      "min       2.000000    5.750000   NaN    NaN  NaN     NaN   2.000000\n",
      "25%      62.000000   12.740000   NaN    NaN  NaN     NaN   2.000000\n",
      "50%     123.000000   16.660000   NaN    NaN  NaN     NaN   2.000000\n",
      "75%     180.000000   21.010000   NaN    NaN  NaN     NaN   3.000000\n",
      "max     239.000000   44.300000   NaN    NaN  NaN     NaN   6.000000\n",
      "---\n",
      "           cust_id  total_bill   sex smoker  day    time        size\n",
      "count   195.000000  195.000000   195    195  195     195  195.000000\n",
      "unique         NaN         NaN     2      2    4       2         NaN\n",
      "top            NaN         NaN  Male     No  Sat  Dinner         NaN\n",
      "freq           NaN         NaN   125    120   71     142         NaN\n",
      "mean    122.056410   20.054667   NaN    NaN  NaN     NaN    2.543590\n",
      "std      70.668034    8.961645   NaN    NaN  NaN     NaN    0.942631\n",
      "min       0.000000    3.070000   NaN    NaN  NaN     NaN    1.000000\n",
      "25%      59.500000   13.420000   NaN    NaN  NaN     NaN    2.000000\n",
      "50%     121.000000   17.920000   NaN    NaN  NaN     NaN    2.000000\n",
      "75%     182.500000   24.395000   NaN    NaN  NaN     NaN    3.000000\n",
      "max     243.000000   50.810000   NaN    NaN  NaN     NaN    6.000000\n",
      "---\n",
      "          cust_id      target\n",
      "count  195.000000  195.000000\n",
      "mean   122.056410    3.021692\n",
      "std     70.668034    1.402690\n",
      "min      0.000000    1.000000\n",
      "25%     59.500000    2.000000\n",
      "50%    121.000000    2.920000\n",
      "75%    182.500000    3.530000\n",
      "max    243.000000   10.000000\n"
     ]
    }
   ],
   "source": [
    "# x_train과 x_test 데이터의 기초 통계량을 잘 비교해볼 것\n",
    "print(x_test.describe(include = ['category','int','float']))\n",
    "print(\"---\")\n",
    "print(x_train.describe(include = ['category','int','float']))\n",
    "print(\"---\")\n",
    "print(y_train.describe(include = ['category','int','float']))"
   ]
  },
  {
   "cell_type": "markdown",
   "metadata": {},
   "source": [
    "### 3. 데이터 전처리 및 분리<br>\n",
    "\n",
    "1. 결측치 2. 이상치 3. 변수 처리하기\n"
   ]
  },
  {
   "cell_type": "code",
   "execution_count": 5,
   "metadata": {},
   "outputs": [
    {
     "name": "stdout",
     "output_type": "stream",
     "text": [
      "cust_id       0\n",
      "total_bill    0\n",
      "sex           0\n",
      "smoker        0\n",
      "day           0\n",
      "time          0\n",
      "size          0\n",
      "dtype: int64\n",
      "---\n",
      "cust_id       0\n",
      "total_bill    0\n",
      "sex           0\n",
      "smoker        0\n",
      "day           0\n",
      "time          0\n",
      "size          0\n",
      "dtype: int64\n",
      "---\n",
      "cust_id    0\n",
      "target     0\n",
      "dtype: int64\n"
     ]
    }
   ],
   "source": [
    "# 결측치 확인\n",
    "print(x_test.isnull().sum())\n",
    "print(\"---\")\n",
    "print(x_train.isnull().sum())\n",
    "print(\"---\")\n",
    "print(y_train.isnull().sum())"
   ]
  },
  {
   "cell_type": "code",
   "execution_count": 6,
   "metadata": {},
   "outputs": [],
   "source": [
    "# 결측치 제거\n",
    "# df = df.dropna()\n",
    "# print(df)\n",
    "\n",
    "# 결측치 대체(평균값, 중앙값, 최빈값)\n",
    "# 연속형 변수 : 중앙값, 평균값\n",
    "# - df['변수명'].median()\n",
    "# - df['변수명'].mean()\n",
    "# 범주형 변수 : 최빈값\n",
    "\n",
    "# df['변수명] = df['변수명].fillna(대체할 값)"
   ]
  },
  {
   "cell_type": "code",
   "execution_count": 7,
   "metadata": {},
   "outputs": [],
   "source": [
    "# 이상치 대체\n",
    "# df['변수명] = np.where(df['변수명'] > 5, 대체할 값, df['변수명'])"
   ]
  },
  {
   "cell_type": "code",
   "execution_count": 8,
   "metadata": {},
   "outputs": [],
   "source": [
    "# 변수처리\n",
    "\n",
    "# 불필요한 변수 제거\n",
    "# df = df.drop(columns = ['변수1', '변수2'])\n",
    "# df = df.drop(['변수1', '변수2'], axis = 1)\n",
    "\n",
    "# 필요시 변수 추가(파생변수 생성)\n",
    "# df['파생변수명'] = df['A'] * df['B'] ( <- 파생변수 생성 수식 )\n",
    "\n",
    "# 원핫인코딩 (가변수 처리)\n",
    "# x_train = pd.get_dummies(x_train)\n",
    "# x_test = pd.get_dummies(x_test)\n",
    "# print(x_train.info())\n",
    "# print(x_test.info())"
   ]
  },
  {
   "cell_type": "code",
   "execution_count": 6,
   "metadata": {},
   "outputs": [],
   "source": [
    "# 변수처리\n",
    "# 불필요한 변수(columns) 제거\n",
    "# id는 불피료한 변수이므로 제거한다.\n",
    "# 단, test data set의 cust_id가 나중에 제출이 필요하기 때문에 별도로 저장\n",
    "\n",
    "cust_id = x_test['cust_id'].copy()\n",
    "\n",
    "# 각 데이터에서 cust_id 변수 제거\n",
    "x_train = x_train.drop(columns = ['cust_id'])\n",
    "x_test = x_test.drop(columns = ['cust_id'])"
   ]
  },
  {
   "cell_type": "code",
   "execution_count": 7,
   "metadata": {},
   "outputs": [
    {
     "name": "stdout",
     "output_type": "stream",
     "text": [
      "<class 'pandas.core.frame.DataFrame'>\n",
      "RangeIndex: 195 entries, 0 to 194\n",
      "Data columns (total 6 columns):\n",
      " #   Column      Non-Null Count  Dtype   \n",
      "---  ------      --------------  -----   \n",
      " 0   total_bill  195 non-null    float64 \n",
      " 1   sex         195 non-null    category\n",
      " 2   smoker      195 non-null    category\n",
      " 3   day         195 non-null    category\n",
      " 4   time        195 non-null    category\n",
      " 5   size        195 non-null    int64   \n",
      "dtypes: category(4), float64(1), int64(1)\n",
      "memory usage: 4.5 KB\n",
      "None\n",
      "---\n",
      "<class 'pandas.core.frame.DataFrame'>\n",
      "RangeIndex: 49 entries, 0 to 48\n",
      "Data columns (total 6 columns):\n",
      " #   Column      Non-Null Count  Dtype   \n",
      "---  ------      --------------  -----   \n",
      " 0   total_bill  49 non-null     float64 \n",
      " 1   sex         49 non-null     category\n",
      " 2   smoker      49 non-null     category\n",
      " 3   day         49 non-null     category\n",
      " 4   time        49 non-null     category\n",
      " 5   size        49 non-null     int64   \n",
      "dtypes: category(4), float64(1), int64(1)\n",
      "memory usage: 1.6 KB\n",
      "None\n"
     ]
    }
   ],
   "source": [
    "print(x_train.info())\n",
    "print(\"---\")\n",
    "print(x_test.info())"
   ]
  },
  {
   "cell_type": "code",
   "execution_count": 8,
   "metadata": {},
   "outputs": [
    {
     "name": "stdout",
     "output_type": "stream",
     "text": [
      "<class 'pandas.core.frame.DataFrame'>\n",
      "RangeIndex: 195 entries, 0 to 194\n",
      "Data columns (total 12 columns):\n",
      " #   Column       Non-Null Count  Dtype  \n",
      "---  ------       --------------  -----  \n",
      " 0   total_bill   195 non-null    float64\n",
      " 1   size         195 non-null    int64  \n",
      " 2   sex_Male     195 non-null    bool   \n",
      " 3   sex_Female   195 non-null    bool   \n",
      " 4   smoker_Yes   195 non-null    bool   \n",
      " 5   smoker_No    195 non-null    bool   \n",
      " 6   day_Thur     195 non-null    bool   \n",
      " 7   day_Fri      195 non-null    bool   \n",
      " 8   day_Sat      195 non-null    bool   \n",
      " 9   day_Sun      195 non-null    bool   \n",
      " 10  time_Lunch   195 non-null    bool   \n",
      " 11  time_Dinner  195 non-null    bool   \n",
      "dtypes: bool(10), float64(1), int64(1)\n",
      "memory usage: 5.1 KB\n",
      "None\n",
      "---\n",
      "<class 'pandas.core.frame.DataFrame'>\n",
      "RangeIndex: 49 entries, 0 to 48\n",
      "Data columns (total 12 columns):\n",
      " #   Column       Non-Null Count  Dtype  \n",
      "---  ------       --------------  -----  \n",
      " 0   total_bill   49 non-null     float64\n",
      " 1   size         49 non-null     int64  \n",
      " 2   sex_Male     49 non-null     bool   \n",
      " 3   sex_Female   49 non-null     bool   \n",
      " 4   smoker_Yes   49 non-null     bool   \n",
      " 5   smoker_No    49 non-null     bool   \n",
      " 6   day_Thur     49 non-null     bool   \n",
      " 7   day_Fri      49 non-null     bool   \n",
      " 8   day_Sat      49 non-null     bool   \n",
      " 9   day_Sun      49 non-null     bool   \n",
      " 10  time_Lunch   49 non-null     bool   \n",
      " 11  time_Dinner  49 non-null     bool   \n",
      "dtypes: bool(10), float64(1), int64(1)\n",
      "memory usage: 1.4 KB\n",
      "None\n"
     ]
    }
   ],
   "source": [
    "# 변수 처리 (원핫 인코딩)\n",
    "x_train = pd.get_dummies(x_train, columns = ['sex', 'smoker','day','time'])\n",
    "x_test = pd.get_dummies(x_test, columns = ['sex', 'smoker','day','time'])\n",
    "\n",
    "print(x_train.info())\n",
    "print(\"---\")\n",
    "print(x_test.info())"
   ]
  },
  {
   "cell_type": "code",
   "execution_count": 9,
   "metadata": {},
   "outputs": [
    {
     "name": "stdout",
     "output_type": "stream",
     "text": [
      "   total_bill  size  sex_Male  sex_Female  smoker_Yes  smoker_No  day_Thur  \\\n",
      "0       13.39     2     False        True       False       True     False   \n",
      "1       20.90     3     False        True        True      False     False   \n",
      "2       20.29     2     False        True       False       True     False   \n",
      "3       14.73     2     False        True       False       True     False   \n",
      "4        9.68     2      True       False       False       True     False   \n",
      "\n",
      "   day_Fri  day_Sat  day_Sun  time_Lunch  time_Dinner  \n",
      "0    False    False     True       False         True  \n",
      "1    False    False     True       False         True  \n",
      "2    False     True    False       False         True  \n",
      "3    False     True    False       False         True  \n",
      "4    False    False     True       False         True  \n",
      "---\n",
      "   total_bill  size  sex_Male  sex_Female  smoker_Yes  smoker_No  day_Thur  \\\n",
      "0       19.77     4      True       False       False       True     False   \n",
      "1       24.59     4     False        True       False       True     False   \n",
      "2        9.55     2      True       False       False       True     False   \n",
      "3       10.51     2      True       False       False       True     False   \n",
      "4       20.69     4     False        True       False       True     False   \n",
      "\n",
      "   day_Fri  day_Sat  day_Sun  time_Lunch  time_Dinner  \n",
      "0    False    False     True       False         True  \n",
      "1    False    False     True       False         True  \n",
      "2    False     True    False       False         True  \n",
      "3    False     True    False       False         True  \n",
      "4    False     True    False       False         True  \n"
     ]
    }
   ],
   "source": [
    "print(x_train.head())\n",
    "print(\"---\")\n",
    "print(x_test.head())"
   ]
  },
  {
   "cell_type": "code",
   "execution_count": 11,
   "metadata": {},
   "outputs": [],
   "source": [
    "x_train = x_train.astype('float64')\n",
    "x_test = x_test.astype('float64')"
   ]
  },
  {
   "cell_type": "code",
   "execution_count": 12,
   "metadata": {},
   "outputs": [
    {
     "name": "stdout",
     "output_type": "stream",
     "text": [
      "   total_bill  size  sex_Male  sex_Female  smoker_Yes  smoker_No  day_Thur  \\\n",
      "0       13.39   2.0       0.0         1.0         0.0        1.0       0.0   \n",
      "1       20.90   3.0       0.0         1.0         1.0        0.0       0.0   \n",
      "2       20.29   2.0       0.0         1.0         0.0        1.0       0.0   \n",
      "3       14.73   2.0       0.0         1.0         0.0        1.0       0.0   \n",
      "4        9.68   2.0       1.0         0.0         0.0        1.0       0.0   \n",
      "\n",
      "   day_Fri  day_Sat  day_Sun  time_Lunch  time_Dinner  \n",
      "0      0.0      0.0      1.0         0.0          1.0  \n",
      "1      0.0      0.0      1.0         0.0          1.0  \n",
      "2      0.0      1.0      0.0         0.0          1.0  \n",
      "3      0.0      1.0      0.0         0.0          1.0  \n",
      "4      0.0      0.0      1.0         0.0          1.0  \n",
      "---\n",
      "   total_bill  size  sex_Male  sex_Female  smoker_Yes  smoker_No  day_Thur  \\\n",
      "0       19.77   4.0       1.0         0.0         0.0        1.0       0.0   \n",
      "1       24.59   4.0       0.0         1.0         0.0        1.0       0.0   \n",
      "2        9.55   2.0       1.0         0.0         0.0        1.0       0.0   \n",
      "3       10.51   2.0       1.0         0.0         0.0        1.0       0.0   \n",
      "4       20.69   4.0       0.0         1.0         0.0        1.0       0.0   \n",
      "\n",
      "   day_Fri  day_Sat  day_Sun  time_Lunch  time_Dinner  \n",
      "0      0.0      0.0      1.0         0.0          1.0  \n",
      "1      0.0      0.0      1.0         0.0          1.0  \n",
      "2      0.0      1.0      0.0         0.0          1.0  \n",
      "3      0.0      1.0      0.0         0.0          1.0  \n",
      "4      0.0      1.0      0.0         0.0          1.0  \n"
     ]
    }
   ],
   "source": [
    "print(x_train.head())\n",
    "print(\"---\")\n",
    "print(x_test.head())"
   ]
  },
  {
   "cell_type": "markdown",
   "metadata": {},
   "source": [
    "데이터 분리"
   ]
  },
  {
   "cell_type": "code",
   "execution_count": 13,
   "metadata": {},
   "outputs": [
    {
     "name": "stdout",
     "output_type": "stream",
     "text": [
      "(156, 12)\n",
      "---\n",
      "(39, 12)\n",
      "---\n",
      "(156,)\n",
      "---\n",
      "(39,)\n"
     ]
    }
   ],
   "source": [
    "# 데이터를 훈련 데이터 셋과 검증용 데이터 셋으로 분할 ( 80 : 20 )\n",
    "from sklearn.model_selection import train_test_split\n",
    "x_train, x_val, y_train, y_val = train_test_split(x_train, #x -> y 순\n",
    "                                                  y_train['target'],\n",
    "                                                  test_size = 0.2,\n",
    "                                                  random_state = 2023)\n",
    "\n",
    "print(x_train.shape)\n",
    "print(\"---\")\n",
    "print(x_val.shape)\n",
    "print(\"---\")\n",
    "print(y_train.shape)\n",
    "print(\"---\")\n",
    "print(y_val.shape)"
   ]
  },
  {
   "cell_type": "markdown",
   "metadata": {},
   "source": [
    "### 4. 모델링 및 성능 평가"
   ]
  },
  {
   "cell_type": "code",
   "execution_count": 14,
   "metadata": {},
   "outputs": [
    {
     "data": {
      "text/html": [
       "<style>#sk-container-id-1 {color: black;}#sk-container-id-1 pre{padding: 0;}#sk-container-id-1 div.sk-toggleable {background-color: white;}#sk-container-id-1 label.sk-toggleable__label {cursor: pointer;display: block;width: 100%;margin-bottom: 0;padding: 0.3em;box-sizing: border-box;text-align: center;}#sk-container-id-1 label.sk-toggleable__label-arrow:before {content: \"▸\";float: left;margin-right: 0.25em;color: #696969;}#sk-container-id-1 label.sk-toggleable__label-arrow:hover:before {color: black;}#sk-container-id-1 div.sk-estimator:hover label.sk-toggleable__label-arrow:before {color: black;}#sk-container-id-1 div.sk-toggleable__content {max-height: 0;max-width: 0;overflow: hidden;text-align: left;background-color: #f0f8ff;}#sk-container-id-1 div.sk-toggleable__content pre {margin: 0.2em;color: black;border-radius: 0.25em;background-color: #f0f8ff;}#sk-container-id-1 input.sk-toggleable__control:checked~div.sk-toggleable__content {max-height: 200px;max-width: 100%;overflow: auto;}#sk-container-id-1 input.sk-toggleable__control:checked~label.sk-toggleable__label-arrow:before {content: \"▾\";}#sk-container-id-1 div.sk-estimator input.sk-toggleable__control:checked~label.sk-toggleable__label {background-color: #d4ebff;}#sk-container-id-1 div.sk-label input.sk-toggleable__control:checked~label.sk-toggleable__label {background-color: #d4ebff;}#sk-container-id-1 input.sk-hidden--visually {border: 0;clip: rect(1px 1px 1px 1px);clip: rect(1px, 1px, 1px, 1px);height: 1px;margin: -1px;overflow: hidden;padding: 0;position: absolute;width: 1px;}#sk-container-id-1 div.sk-estimator {font-family: monospace;background-color: #f0f8ff;border: 1px dotted black;border-radius: 0.25em;box-sizing: border-box;margin-bottom: 0.5em;}#sk-container-id-1 div.sk-estimator:hover {background-color: #d4ebff;}#sk-container-id-1 div.sk-parallel-item::after {content: \"\";width: 100%;border-bottom: 1px solid gray;flex-grow: 1;}#sk-container-id-1 div.sk-label:hover label.sk-toggleable__label {background-color: #d4ebff;}#sk-container-id-1 div.sk-serial::before {content: \"\";position: absolute;border-left: 1px solid gray;box-sizing: border-box;top: 0;bottom: 0;left: 50%;z-index: 0;}#sk-container-id-1 div.sk-serial {display: flex;flex-direction: column;align-items: center;background-color: white;padding-right: 0.2em;padding-left: 0.2em;position: relative;}#sk-container-id-1 div.sk-item {position: relative;z-index: 1;}#sk-container-id-1 div.sk-parallel {display: flex;align-items: stretch;justify-content: center;background-color: white;position: relative;}#sk-container-id-1 div.sk-item::before, #sk-container-id-1 div.sk-parallel-item::before {content: \"\";position: absolute;border-left: 1px solid gray;box-sizing: border-box;top: 0;bottom: 0;left: 50%;z-index: -1;}#sk-container-id-1 div.sk-parallel-item {display: flex;flex-direction: column;z-index: 1;position: relative;background-color: white;}#sk-container-id-1 div.sk-parallel-item:first-child::after {align-self: flex-end;width: 50%;}#sk-container-id-1 div.sk-parallel-item:last-child::after {align-self: flex-start;width: 50%;}#sk-container-id-1 div.sk-parallel-item:only-child::after {width: 0;}#sk-container-id-1 div.sk-dashed-wrapped {border: 1px dashed gray;margin: 0 0.4em 0.5em 0.4em;box-sizing: border-box;padding-bottom: 0.4em;background-color: white;}#sk-container-id-1 div.sk-label label {font-family: monospace;font-weight: bold;display: inline-block;line-height: 1.2em;}#sk-container-id-1 div.sk-label-container {text-align: center;}#sk-container-id-1 div.sk-container {/* jupyter's `normalize.less` sets `[hidden] { display: none; }` but bootstrap.min.css set `[hidden] { display: none !important; }` so we also need the `!important` here to be able to override the default hidden behavior on the sphinx rendered scikit-learn.org. See: https://github.com/scikit-learn/scikit-learn/issues/21755 */display: inline-block !important;position: relative;}#sk-container-id-1 div.sk-text-repr-fallback {display: none;}</style><div id=\"sk-container-id-1\" class=\"sk-top-container\"><div class=\"sk-text-repr-fallback\"><pre>RandomForestRegressor(random_state=2023)</pre><b>In a Jupyter environment, please rerun this cell to show the HTML representation or trust the notebook. <br />On GitHub, the HTML representation is unable to render, please try loading this page with nbviewer.org.</b></div><div class=\"sk-container\" hidden><div class=\"sk-item\"><div class=\"sk-estimator sk-toggleable\"><input class=\"sk-toggleable__control sk-hidden--visually\" id=\"sk-estimator-id-1\" type=\"checkbox\" checked><label for=\"sk-estimator-id-1\" class=\"sk-toggleable__label sk-toggleable__label-arrow\">RandomForestRegressor</label><div class=\"sk-toggleable__content\"><pre>RandomForestRegressor(random_state=2023)</pre></div></div></div></div></div>"
      ],
      "text/plain": [
       "RandomForestRegressor(random_state=2023)"
      ]
     },
     "execution_count": 14,
     "metadata": {},
     "output_type": "execute_result"
    }
   ],
   "source": [
    "# 랜덤 포레스트 모델 사용 (참고 : 분류모델은 RandomForestClassifier)\n",
    "from sklearn.ensemble import RandomForestRegressor\n",
    "model = RandomForestRegressor(random_state = 2023)\n",
    "model.fit(x_train, y_train)"
   ]
  },
  {
   "cell_type": "code",
   "execution_count": 15,
   "metadata": {},
   "outputs": [],
   "source": [
    "# 모델을 사용하여 테스트 데이터 예측\n",
    "y_pred = model.predict(x_val)"
   ]
  },
  {
   "cell_type": "code",
   "execution_count": 16,
   "metadata": {},
   "outputs": [],
   "source": [
    "# 모델 성능 평가 (평균 제곱 오차 및 R-squared)\n",
    "from sklearn.metrics import mean_squared_error, r2_score\n",
    "mse = mean_squared_error(y_val, y_pred) #(실제값, 예측값)\n",
    "r2 = r2_score(y_val, y_pred) "
   ]
  },
  {
   "cell_type": "code",
   "execution_count": 17,
   "metadata": {},
   "outputs": [
    {
     "name": "stdout",
     "output_type": "stream",
     "text": [
      "MSE\n",
      "1.0860209841025643\n",
      "---\n",
      "R-Squared\n",
      "0.6214234662421672\n",
      "---\n",
      "RMSE\n",
      "1.042123305613383\n"
     ]
    }
   ],
   "source": [
    "# MSE\n",
    "print(\"MSE\")\n",
    "print(mse)\n",
    "print(\"---\")\n",
    "# R2 Score\n",
    "print(\"R-Squared\")\n",
    "print(r2)\n",
    "# RMSE\n",
    "rmse = mse**0.5\n",
    "print(\"---\")\n",
    "print(\"RMSE\")\n",
    "print(rmse)"
   ]
  },
  {
   "cell_type": "markdown",
   "metadata": {},
   "source": [
    "### 5. 예측값 제출"
   ]
  },
  {
   "cell_type": "code",
   "execution_count": 19,
   "metadata": {},
   "outputs": [
    {
     "name": "stdout",
     "output_type": "stream",
     "text": [
      "   cust_id  target\n",
      "0      154  3.1114\n",
      "1        4  2.8938\n",
      "2       30  1.7715\n",
      "3       75  1.6389\n",
      "4       33  3.1873\n",
      "5      149  1.5769\n",
      "6      164  2.9384\n",
      "7       61  2.0657\n",
      "8      136  2.0081\n",
      "9      211  3.5714\n"
     ]
    }
   ],
   "source": [
    "# 실기시험 안내사항\n",
    "# 아래 코드 예측변수와 수험번호를 개인별로 변경하여 활용\n",
    "# pd.DataFrame({'cust_id' : cust_id, 'target' : y_result}).to_csv('수험번호.csv', index = False)\n",
    "\n",
    "# 모델을 사용하여 테스트 예측\n",
    "y_result = model.predict(x_test)\n",
    "result = pd.DataFrame({'cust_id' : cust_id, 'target' : y_result})\n",
    "print(result[:10])"
   ]
  },
  {
   "cell_type": "code",
   "execution_count": 19,
   "metadata": {},
   "outputs": [],
   "source": [
    "# tip : 데이터를 저장한 다음 불러와서 제대로 export 하였는지 확인\n",
    "# pd.DataFrame({'cust_id' : cust_id, 'target' : y_result}).to_csv('수험번호.csv', index = False)\n",
    "# df2 = pd.read_csv('수험번호'.csv)\n",
    "# print(df2.head())"
   ]
  }
 ],
 "metadata": {
  "kernelspec": {
   "display_name": "class101",
   "language": "python",
   "name": "python3"
  },
  "language_info": {
   "codemirror_mode": {
    "name": "ipython",
    "version": 3
   },
   "file_extension": ".py",
   "mimetype": "text/x-python",
   "name": "python",
   "nbconvert_exporter": "python",
   "pygments_lexer": "ipython3",
   "version": "3.8.16"
  }
 },
 "nbformat": 4,
 "nbformat_minor": 2
}
