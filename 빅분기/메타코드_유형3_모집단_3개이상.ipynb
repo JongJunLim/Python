{
 "cells": [
  {
   "cell_type": "markdown",
   "metadata": {},
   "source": [
    "## 유형 3"
   ]
  },
  {
   "cell_type": "markdown",
   "metadata": {},
   "source": [
    "### 1. 가설 검정\n",
    "- <span style= \"color: #000000; background-color: #FFF5B1;\">모평균 검정 : 검정통계량, p-value, 귀무가설 판단</span>\n",
    "    - 모집단 1개 : 단일 표본\n",
    "    - 모집단 2개 : 대응표본(쌍체), 독립표본\n",
    "    - <span style= \"color: #000000; background-color: #FFF5B1;\">모집단 3개 이상 : ANOVA(분산분석)</span>\n",
    "<br><br>\n",
    "- 카이제곱 검정 : 기댓값, 검정통계량, p-value, 귀무가설 판단\n",
    "    - 적합성 검정\n",
    "    - 독립성 검정\n",
    "\n",
    "### 2. 상관분석\n",
    ": 상관계수, 기댓값, 검정통계량, p-value, 귀무가설 판단\n",
    "- 피어슨 상관계수\n",
    "\n",
    "### 3. 회귀분석\n",
    ": RSQ, odds, odds ratio, 회귀계수, p-value 값\n",
    "- 다중 선형회귀\n",
    "- 로지스틱 회귀"
   ]
  },
  {
   "cell_type": "markdown",
   "metadata": {},
   "source": [
    "---"
   ]
  },
  {
   "cell_type": "markdown",
   "metadata": {},
   "source": [
    "### 모집단 3개 이상\n",
    "\n",
    "### 검정 방법\n",
    "\n",
    "#### 1. 분산분석(ANOVA) : A집단 vs B집단 vs C집단 vs ...\n",
    "\n",
    " 1) (정규성 O) ANOVA 분석\n",
    " 2) (정규성 X) 크루스칼-왈리스 검정 (kruskal-willis test)\n",
    "\n",
    "##### <span style= \"color: #CC0000; background-color: #FFF5B1;\">(*중요)</span> 가설 검정 순서\n",
    "1. 가설 설정\n",
    "2. 유의수준 확인 \n",
    "3. 정규성 검정 <span style= \"color: #CC0000; background-color: #FFF5B1;\">(주의) 집단 모두 정규성을 따를 경우</span>\n",
    "4. <span style= \"color: #000000; background-color: #FFF5B1;\">등분산 검정</span>\n",
    "5. 검정실시 (통계량, p-value 확인) <span style= \"color: #CC0000; background-color: #FFF5B1;\">(주의) 등분산 여부 확인</span>\n",
    "6. 귀무가설 기각여부 결정"
   ]
  },
  {
   "cell_type": "markdown",
   "metadata": {},
   "source": [
    "Q. 다음은 A,B,C 그룹 인원 성적데이터이다.<br>\n",
    "세 그룹의 성적 평균이 같다고 할 수 있는지 ANOVA 분석을 실시하시오. (유의수준 5%)\n",
    "<br>\n",
    "- A,B,C : 각 그룹 인원의 성적\n",
    "- Ho(귀무가설) : A(평균) = B(평균) = C(평균)\n",
    "- H1(대립가설) : Not Ho (적어도 하나는 같지 않다.)"
   ]
  },
  {
   "cell_type": "code",
   "execution_count": 1,
   "metadata": {},
   "outputs": [],
   "source": [
    "import pandas as pd\n",
    "import numpy as np\n",
    "import scipy.stats as stats\n",
    "from scipy.stats import shapiro"
   ]
  },
  {
   "cell_type": "code",
   "execution_count": 2,
   "metadata": {},
   "outputs": [
    {
     "name": "stdout",
     "output_type": "stream",
     "text": [
      "     A    B    C\n",
      "0  120  110  130\n",
      "1  135  132  120\n",
      "2  122  123  115\n",
      "3  124  119  122\n",
      "4  135  123  133\n"
     ]
    }
   ],
   "source": [
    "# 데이터 만들기\n",
    "df = pd.DataFrame({\n",
    "    'A' : [120, 135, 122, 124, 135, 122, 145, 160,155, 142, 144, 135, 167],\n",
    "    'B' : [110, 132, 123, 119, 123, 115, 140, 162, 142, 138, 135, 142, 160],\n",
    "    'C' : [130, 120, 115, 122, 133, 144, 122, 120, 110, 134, 125, 122, 122],\n",
    "})\n",
    "\n",
    "print(df.head())"
   ]
  },
  {
   "cell_type": "code",
   "execution_count": 3,
   "metadata": {},
   "outputs": [],
   "source": [
    "# 1. 가설 설정\n",
    "# Ho(귀무가설) : 세 그룹 성적의 평균값이 같다. (A(평균) = B(평균) = C(평균))\n",
    "# H1(대립가설) : 세 그룹 성적의 평균값이 적어도 하나는 같지 않다. (Not Ho)"
   ]
  },
  {
   "cell_type": "code",
   "execution_count": 4,
   "metadata": {},
   "outputs": [],
   "source": [
    "# 2. 유의수준 확인 : 유의수준 5%로 확인"
   ]
  },
  {
   "cell_type": "code",
   "execution_count": 5,
   "metadata": {},
   "outputs": [
    {
     "name": "stdout",
     "output_type": "stream",
     "text": [
      "ShapiroResult(statistic=0.9314374327659607, pvalue=0.3558504581451416)\n",
      "ShapiroResult(statistic=0.9498199224472046, pvalue=0.5955632925033569)\n",
      "ShapiroResult(statistic=0.9396705031394958, pvalue=0.4526498317718506)\n"
     ]
    }
   ],
   "source": [
    "# 3.정규성 검정 (차이값에 대해 정규성 확인)\n",
    "# H0(귀무가설) : 정규분포를 따른다 \n",
    "# H1(대립가설) : 정규분포를 따르지 않는다\n",
    "\n",
    "print(stats.shapiro(df['A']))\n",
    "print(stats.shapiro(df['B']))\n",
    "print(stats.shapiro(df['C']))\n",
    "\n",
    "# statistic, pvalue = stats.shapiro(df['A'])\n",
    "# print(round(statistic,4), round(pvalue,4))"
   ]
  },
  {
   "cell_type": "markdown",
   "metadata": {},
   "source": [
    "- 세집단 모두 p-value 값이 유의수준(0.05) 보다 크다. <br>\n",
    " -> 귀무가설 채택 (정규성검정의 H0 : 정규분포를 따른다)\n",
    "- <span style= \"color: #CC0000; background-color: #FFF5B1;\">만약 하나라도 정규분포를 따르지 않는다면, 비모수 검정 방법을 써야한다. (크루스칼-왈리스 검정)</span>"
   ]
  },
  {
   "cell_type": "code",
   "execution_count": 6,
   "metadata": {},
   "outputs": [
    {
     "name": "stdout",
     "output_type": "stream",
     "text": [
      "BartlettResult(statistic=4.222248448848066, pvalue=0.12110174433684852)\n"
     ]
    }
   ],
   "source": [
    "# 4. 등분산성 검정\n",
    "# H0(귀무가설) : 등분산 한다.\n",
    "# H1(대립가설) : 등분산 하지 않는다.\n",
    "\n",
    "print(stats.bartlett(df['A'],df['B'],df['C']))"
   ]
  },
  {
   "cell_type": "markdown",
   "metadata": {},
   "source": [
    "- p-value 값이 유의수준(0.05) 보다 크다. <br>\n",
    " -> 귀무가설 채택 (정규성검정의 H0 : 등분산성을 따른다고 할 수 있다)"
   ]
  },
  {
   "cell_type": "code",
   "execution_count": 7,
   "metadata": {},
   "outputs": [
    {
     "name": "stdout",
     "output_type": "stream",
     "text": [
      "3.6971 0.0346\n"
     ]
    }
   ],
   "source": [
    "# 5.1 (정규성 o, 등분산성 o) 분산분석(F_oneway)\n",
    "statistic, pvalue = stats.f_oneway(df['A'],df['B'],df['C'])\n",
    "# 주의 : 데이터가 각각 들어가야 함 (밑에 예재와 비교해볼 것)\n",
    "\n",
    "print(round(statistic,4), round(pvalue,4))"
   ]
  },
  {
   "cell_type": "code",
   "execution_count": 8,
   "metadata": {},
   "outputs": [],
   "source": [
    "# 5.2 (정규성 o, 등분산성 x) Welch-ANOVA 분석\n",
    "# import pingouin as pg # 체험환경에서는 pingouin 패키지 미지원\n",
    "# pg.welch_anova(dv = \"그룹변수명\", between = \"성적데이터\", data = 데이터)\n",
    "# pg.welch_anova(df['A'],df['B'],df['C']) 형태로 분석 불가"
   ]
  },
  {
   "cell_type": "code",
   "execution_count": 9,
   "metadata": {},
   "outputs": [],
   "source": [
    "# 6. 귀무가설 기각여부 결정 (채택/기각)\n",
    "# p-value 값이 0.05 보다 작기 때문에(0.0346) 귀무가설을 기각한다.\n",
    "# 즉, A,B,C 그룹의 성적 평균이 같다고 할 수 있다 (Not Ho)\n",
    "\n",
    "# 답 : 귀무가설 기각"
   ]
  },
  {
   "cell_type": "markdown",
   "metadata": {},
   "source": [
    "Q. 데이터 형태가 다를 경우"
   ]
  },
  {
   "cell_type": "code",
   "execution_count": 10,
   "metadata": {},
   "outputs": [
    {
     "name": "stdout",
     "output_type": "stream",
     "text": [
      "     A    B    C\n",
      "0  120  110  130\n",
      "1  135  132  120\n",
      "2  122  123  115\n",
      "3  124  119  122\n",
      "4  135  123  133\n"
     ]
    }
   ],
   "source": [
    "# 데이터 만들기\n",
    "df2 = pd.DataFrame({\n",
    "    '항목' : ['A','A','A','A','A','A','A','A','A','A','A','A','A'\n",
    "            ,'B','B','B','B','B','B','B','B','B','B','B','B','B'\n",
    "            ,'C','C','C','C','C','C','C','C','C','C','C','C','C'],\n",
    "    'value' : [120, 135, 122, 124, 135, 122, 145, 160,155, 142, 144, 135, 167,\n",
    "               110, 132, 123, 119, 123, 115, 140, 162, 142, 138, 135, 142, 160,\n",
    "               130, 120, 115, 122, 133, 144, 122, 120, 110, 134, 125, 122, 122]\n",
    "})\n",
    "\n",
    "print(df.head())"
   ]
  },
  {
   "cell_type": "code",
   "execution_count": 11,
   "metadata": {},
   "outputs": [],
   "source": [
    "# 각각 필터링해서 변수명에 저장하고 분석 진행\n",
    "a = df2.loc[df2['항목'] == 'A']['value']\n",
    "b = df2.loc[df2['항목'] == 'B']['value']\n",
    "c = df2.loc[df2['항목'] == 'C']['value']"
   ]
  },
  {
   "cell_type": "code",
   "execution_count": 12,
   "metadata": {},
   "outputs": [
    {
     "name": "stdout",
     "output_type": "stream",
     "text": [
      "3.6971 0.0346\n"
     ]
    }
   ],
   "source": [
    "# 분산분석(F_oneway)\n",
    "statistic, pvalue = stats.f_oneway(a,b,c)\n",
    "print(round(statistic,4),round(pvalue,4))"
   ]
  }
 ],
 "metadata": {
  "kernelspec": {
   "display_name": "class101",
   "language": "python",
   "name": "python3"
  },
  "language_info": {
   "codemirror_mode": {
    "name": "ipython",
    "version": 3
   },
   "file_extension": ".py",
   "mimetype": "text/x-python",
   "name": "python",
   "nbconvert_exporter": "python",
   "pygments_lexer": "ipython3",
   "version": "3.8.16"
  }
 },
 "nbformat": 4,
 "nbformat_minor": 2
}
