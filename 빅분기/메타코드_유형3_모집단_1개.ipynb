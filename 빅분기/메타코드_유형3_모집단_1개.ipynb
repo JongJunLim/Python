{
 "cells": [
  {
   "cell_type": "markdown",
   "metadata": {},
   "source": [
    "## 유형 3"
   ]
  },
  {
   "cell_type": "markdown",
   "metadata": {},
   "source": [
    "### 1. 가설 검정\n",
    "- <span style= \"color: #000000; background-color: #FFFF33;\">모평균 검정 : 검정통계량, p-value, 귀무가설 판단</span>\n",
    "    - <span style= \"color: #000000; background-color: #FFFF33;\">모집단 1개 : 단일 표본</span>\n",
    "    - 모집단 2개 : 대응표본(쌍체), 독립표본\n",
    "    - 모집단 3개 이상 : ANOVA(분산분석)\n",
    "<br><br>\n",
    "- 카이제곱 검정 : 기댓값, 검정통계량, p-value, 귀무가설 판단\n",
    "    - 적합성 검정\n",
    "    - 독립성 검정\n",
    "\n",
    "### 2. 상관분석\n",
    ": 상관계수, 기댓값, 검정통계량, p-value, 귀무가설 판단\n",
    "- 피어슨 상관계수\n",
    "\n",
    "### 3. 회귀분석\n",
    ": RSQ, odds, odds ratio, 회귀계수, p-value 값\n",
    "- 다중 선형회귀\n",
    "- 로지스틱 회귀"
   ]
  },
  {
   "cell_type": "markdown",
   "metadata": {},
   "source": [
    "---"
   ]
  },
  {
   "cell_type": "markdown",
   "metadata": {},
   "source": [
    "### 모집단 1개(집단의 평균 vs 특정값)"
   ]
  },
  {
   "cell_type": "markdown",
   "metadata": {},
   "source": [
    "### 검정 방법\n",
    "1) (정규성 O) 단일표본 t 검정 (1 sample t-test)\n",
    "2) (정규성 X) 윌콕슨 부호순위 검정"
   ]
  },
  {
   "cell_type": "markdown",
   "metadata": {},
   "source": [
    "### 가설검정 순서\n",
    "1. 가설 설정\n",
    "2. 유의수준 확인\n",
    "3. 정규성 검정\n",
    "4. 검정실시 (통계량, p-value 확인)\n",
    "5. 귀무가설 기각여부 결정"
   ]
  },
  {
   "cell_type": "code",
   "execution_count": 2,
   "metadata": {},
   "outputs": [],
   "source": [
    "import pandas as pd\n",
    "import numpy as np"
   ]
  },
  {
   "cell_type": "code",
   "execution_count": 3,
   "metadata": {},
   "outputs": [
    {
     "data": {
      "text/html": [
       "<div>\n",
       "<style scoped>\n",
       "    .dataframe tbody tr th:only-of-type {\n",
       "        vertical-align: middle;\n",
       "    }\n",
       "\n",
       "    .dataframe tbody tr th {\n",
       "        vertical-align: top;\n",
       "    }\n",
       "\n",
       "    .dataframe thead th {\n",
       "        text-align: right;\n",
       "    }\n",
       "</style>\n",
       "<table border=\"1\" class=\"dataframe\">\n",
       "  <thead>\n",
       "    <tr style=\"text-align: right;\">\n",
       "      <th></th>\n",
       "      <th>model</th>\n",
       "      <th>mpg</th>\n",
       "      <th>cyl</th>\n",
       "      <th>disp</th>\n",
       "      <th>hp</th>\n",
       "      <th>drat</th>\n",
       "      <th>wt</th>\n",
       "      <th>qsec</th>\n",
       "      <th>vs</th>\n",
       "      <th>am</th>\n",
       "      <th>gear</th>\n",
       "      <th>carb</th>\n",
       "    </tr>\n",
       "  </thead>\n",
       "  <tbody>\n",
       "    <tr>\n",
       "      <th>0</th>\n",
       "      <td>Mazda RX4</td>\n",
       "      <td>21.0</td>\n",
       "      <td>6</td>\n",
       "      <td>160.0</td>\n",
       "      <td>110</td>\n",
       "      <td>3.90</td>\n",
       "      <td>2.620</td>\n",
       "      <td>16.46</td>\n",
       "      <td>0</td>\n",
       "      <td>1</td>\n",
       "      <td>4</td>\n",
       "      <td>4</td>\n",
       "    </tr>\n",
       "    <tr>\n",
       "      <th>1</th>\n",
       "      <td>Mazda RX4 Wag</td>\n",
       "      <td>21.0</td>\n",
       "      <td>6</td>\n",
       "      <td>160.0</td>\n",
       "      <td>110</td>\n",
       "      <td>3.90</td>\n",
       "      <td>2.875</td>\n",
       "      <td>17.02</td>\n",
       "      <td>0</td>\n",
       "      <td>1</td>\n",
       "      <td>4</td>\n",
       "      <td>4</td>\n",
       "    </tr>\n",
       "    <tr>\n",
       "      <th>2</th>\n",
       "      <td>Datsun 710</td>\n",
       "      <td>22.8</td>\n",
       "      <td>4</td>\n",
       "      <td>108.0</td>\n",
       "      <td>93</td>\n",
       "      <td>3.85</td>\n",
       "      <td>2.320</td>\n",
       "      <td>18.61</td>\n",
       "      <td>1</td>\n",
       "      <td>1</td>\n",
       "      <td>4</td>\n",
       "      <td>1</td>\n",
       "    </tr>\n",
       "    <tr>\n",
       "      <th>3</th>\n",
       "      <td>Hornet 4 Drive</td>\n",
       "      <td>21.4</td>\n",
       "      <td>6</td>\n",
       "      <td>258.0</td>\n",
       "      <td>110</td>\n",
       "      <td>3.08</td>\n",
       "      <td>3.215</td>\n",
       "      <td>19.44</td>\n",
       "      <td>1</td>\n",
       "      <td>0</td>\n",
       "      <td>3</td>\n",
       "      <td>1</td>\n",
       "    </tr>\n",
       "    <tr>\n",
       "      <th>4</th>\n",
       "      <td>Hornet Sportabout</td>\n",
       "      <td>18.7</td>\n",
       "      <td>8</td>\n",
       "      <td>360.0</td>\n",
       "      <td>175</td>\n",
       "      <td>3.15</td>\n",
       "      <td>3.440</td>\n",
       "      <td>17.02</td>\n",
       "      <td>0</td>\n",
       "      <td>0</td>\n",
       "      <td>3</td>\n",
       "      <td>2</td>\n",
       "    </tr>\n",
       "  </tbody>\n",
       "</table>\n",
       "</div>"
      ],
      "text/plain": [
       "               model   mpg  cyl   disp   hp  drat     wt   qsec  vs  am  gear  \\\n",
       "0          Mazda RX4  21.0    6  160.0  110  3.90  2.620  16.46   0   1     4   \n",
       "1      Mazda RX4 Wag  21.0    6  160.0  110  3.90  2.875  17.02   0   1     4   \n",
       "2         Datsun 710  22.8    4  108.0   93  3.85  2.320  18.61   1   1     4   \n",
       "3     Hornet 4 Drive  21.4    6  258.0  110  3.08  3.215  19.44   1   0     3   \n",
       "4  Hornet Sportabout  18.7    8  360.0  175  3.15  3.440  17.02   0   0     3   \n",
       "\n",
       "   carb  \n",
       "0     4  \n",
       "1     4  \n",
       "2     1  \n",
       "3     1  \n",
       "4     2  "
      ]
     },
     "execution_count": 3,
     "metadata": {},
     "output_type": "execute_result"
    }
   ],
   "source": [
    "df = pd.read_csv(\"mtcars.csv\")\n",
    "df.head()"
   ]
  },
  {
   "cell_type": "markdown",
   "metadata": {},
   "source": [
    "Q. mtcars data의 mpg 열 데이터의 평균이 20와 같다고 할 수 있는지 단일표본 t-test로 검정하시오 (유의수준 5%, 양측검정)"
   ]
  },
  {
   "cell_type": "code",
   "execution_count": 4,
   "metadata": {},
   "outputs": [],
   "source": [
    "import scipy.stats as stats\n",
    "from scipy.stats import shapiro"
   ]
  },
  {
   "cell_type": "code",
   "execution_count": null,
   "metadata": {},
   "outputs": [],
   "source": [
    "# 1. 가설설정\n",
    "# H0 : mpg 열의 평균이 20과 같다 (mu = 20)\n",
    "# H1 : mpg 열의 평균이 20과 같지 않다 (mu != 20)"
   ]
  },
  {
   "cell_type": "code",
   "execution_count": null,
   "metadata": {},
   "outputs": [],
   "source": [
    "# 2. 유의수준 확인 : 유의수준 5%"
   ]
  },
  {
   "cell_type": "code",
   "execution_count": 5,
   "metadata": {},
   "outputs": [
    {
     "name": "stdout",
     "output_type": "stream",
     "text": [
      "0.9476 0.1229\n",
      "ShapiroResult(statistic=0.9475648403167725, pvalue=0.1228824257850647)\n"
     ]
    }
   ],
   "source": [
    "# 3. 정규성 검정\n",
    "# H0(귀무가설) : 정규분포를 따른다 \n",
    "# H1(대립가설) : 정규분포를 따르지 않는다\n",
    "statistic, pvalue = stats.shapiro(df['mpg'])\n",
    "print(round(statistic,4), round(pvalue,4))\n",
    "\n",
    "result = stats.shapiro(df['mpg'])\n",
    "print(result)"
   ]
  },
  {
   "cell_type": "markdown",
   "metadata": {},
   "source": [
    "- p-value 값이 유의수준(0.05) 보다 크다 -> 귀무가설 채택\n",
    "- 만약 정규분포를 따르지 않는다면, 비모수 검정방법을 써야함(윌콕슨의 부호순위 검정)"
   ]
  },
  {
   "cell_type": "code",
   "execution_count": 6,
   "metadata": {},
   "outputs": [
    {
     "name": "stdout",
     "output_type": "stream",
     "text": [
      "0.0851 0.9328\n"
     ]
    }
   ],
   "source": [
    "# 4.1 (정규성 만족 O) t-검정 실시\n",
    "statistic, pvalue = stats.ttest_1samp(df['mpg'], popmean= 20, alternative= 'two-sided') # H1 : 왼쪽값이 오른쪽 값과 같지 않다\n",
    "print(round(statistic,4), round(pvalue,4))\n",
    "# alternative (대립가설 H1) 옵션 : 'two-sided' (default), 'greater', 'less'"
   ]
  },
  {
   "cell_type": "code",
   "execution_count": 7,
   "metadata": {},
   "outputs": [
    {
     "name": "stdout",
     "output_type": "stream",
     "text": [
      "249.0 0.7891\n"
     ]
    }
   ],
   "source": [
    "# 4.2 (정규성 만족 x) wilcoxon 부호순위 검정\n",
    "statistic, pvalue = stats.wilcoxon(df['mpg']-20, alternative= 'two-sided') \n",
    "print(round(statistic,4), round(pvalue,4))"
   ]
  },
  {
   "cell_type": "code",
   "execution_count": 9,
   "metadata": {},
   "outputs": [],
   "source": [
    "# 5. 귀무가설 기각 여부 결정\n",
    "# p-value 값이 0.05보다 크기 때문에(0.9328) 귀무가설을 채택한다.\n",
    "# 즉, mpg 열의 평균이 20과 같다고 할 수 있다.\n",
    "\n",
    "# 답 : 귀무가설 채택"
   ]
  },
  {
   "cell_type": "code",
   "execution_count": 10,
   "metadata": {},
   "outputs": [
    {
     "data": {
      "text/plain": [
       "20.090625000000003"
      ]
     },
     "execution_count": 10,
     "metadata": {},
     "output_type": "execute_result"
    }
   ],
   "source": [
    "# 실제 평균값\n",
    "df['mpg'].mean()"
   ]
  },
  {
   "cell_type": "markdown",
   "metadata": {},
   "source": [
    "Q. mtcars data의 mpg 열 데이터의 평균이 17보다 크다고 할 수 있는지 단일표본 t-test로 검정하시오 (유의수준 5%, 단측검정)"
   ]
  },
  {
   "cell_type": "code",
   "execution_count": null,
   "metadata": {},
   "outputs": [],
   "source": [
    "# 1. 가설설정\n",
    "# H0 : mpg 열의 평균이 17보다 크지 않다 (mu <= 17)\n",
    "# H1 : mpg 열의 평균이 17보다 크다 (mu > 17)"
   ]
  },
  {
   "cell_type": "code",
   "execution_count": null,
   "metadata": {},
   "outputs": [],
   "source": [
    "# 2. 유의수준 확인 : 유의수준 5%"
   ]
  },
  {
   "cell_type": "code",
   "execution_count": 8,
   "metadata": {},
   "outputs": [
    {
     "name": "stdout",
     "output_type": "stream",
     "text": [
      "0.9476 0.1229\n"
     ]
    }
   ],
   "source": [
    "# 3. 정규성 검정\n",
    "# H0(귀무가설) : 정규분포를 따른다 \n",
    "# H1(대립가설) : 정규분포를 따르지 않는다\n",
    "statistic, pvalue = stats.shapiro(df['mpg'])\n",
    "print(round(statistic,4), round(pvalue,4))"
   ]
  },
  {
   "cell_type": "code",
   "execution_count": 9,
   "metadata": {},
   "outputs": [
    {
     "name": "stdout",
     "output_type": "stream",
     "text": [
      "2.9008 0.0034\n"
     ]
    }
   ],
   "source": [
    "# 4.1 (정규성 만족 O) t-검정 실시\n",
    "statistic, pvalue = stats.ttest_1samp(df['mpg'], popmean= 17, alternative= 'greater') # H1 : 왼쪽값이 오른쪽 값보다 크다\n",
    "print(round(statistic,4), round(pvalue,4))"
   ]
  },
  {
   "cell_type": "code",
   "execution_count": 10,
   "metadata": {},
   "outputs": [
    {
     "name": "stdout",
     "output_type": "stream",
     "text": [
      "395.5 0.0066\n"
     ]
    }
   ],
   "source": [
    "# 4.2 (정규성 만족 x) wilcoxon 부호순위 검정\n",
    "statistic, pvalue = stats.wilcoxon(df['mpg']-17, alternative= 'greater') \n",
    "print(round(statistic,4), round(pvalue,4))"
   ]
  },
  {
   "cell_type": "code",
   "execution_count": 16,
   "metadata": {},
   "outputs": [],
   "source": [
    "# 5. 귀무가설 기각 여부 결정\n",
    "# p-value 값이 0.05보다 작기 때문에(0.0034) 귀무가설을 기각한다. (= 대립가설 채택)\n",
    "# 즉, mpg 열의 평균이 17보다 크다고 할수 있다.\n",
    "\n",
    "# 답 : 귀무가설 기각"
   ]
  },
  {
   "cell_type": "markdown",
   "metadata": {},
   "source": [
    "Q. mtcars data의 mpg 열 데이터의 평균이 17보다 작다고 할 수 있는지 단일표본 t-test로 검정하시오 (유의수준 5%, 단측검정)"
   ]
  },
  {
   "cell_type": "code",
   "execution_count": null,
   "metadata": {},
   "outputs": [],
   "source": [
    "# 1. 가설설정\n",
    "# H0 : mpg 열의 평균이 17보다 작지 않다 (mu => 20)\n",
    "# H1 : mpg 열의 평균이 17보다 작다 (mu < 17)\n",
    "\n",
    "\n",
    "# 2,3 위 문제들과 동일"
   ]
  },
  {
   "cell_type": "code",
   "execution_count": 17,
   "metadata": {},
   "outputs": [
    {
     "name": "stdout",
     "output_type": "stream",
     "text": [
      "2.9008 0.9966\n"
     ]
    }
   ],
   "source": [
    "# 4.1 (정규성 만족 O) t-검정 실시\n",
    "statistic, pvalue = stats.ttest_1samp(df['mpg'], popmean= 17, alternative= 'less') # H1 : 왼쪽값이 오른쪽 값보다 작다\n",
    "print(round(statistic,4), round(pvalue,4))"
   ]
  },
  {
   "cell_type": "code",
   "execution_count": 18,
   "metadata": {},
   "outputs": [
    {
     "name": "stdout",
     "output_type": "stream",
     "text": [
      "395.5 0.9938\n"
     ]
    }
   ],
   "source": [
    "# 4.2 (정규성 만족 x) wilcoxon 부호순위 검정\n",
    "statistic, pvalue = stats.wilcoxon(df['mpg']-17, alternative= 'less') \n",
    "print(round(statistic,4), round(pvalue,4))"
   ]
  },
  {
   "cell_type": "code",
   "execution_count": null,
   "metadata": {},
   "outputs": [],
   "source": [
    "# 5. 귀무가설 기각 여부 결정\n",
    "# p-value 값이 0.05보다 크기 때문에(0.9966) 귀무가설을 채택한다.\n",
    "# 즉, mpg 열의 평균이 17보다 작다고 할수 없다.\n",
    "\n",
    "# 답 : 귀무가설 채택"
   ]
  }
 ],
 "metadata": {
  "kernelspec": {
   "display_name": "class101",
   "language": "python",
   "name": "python3"
  },
  "language_info": {
   "codemirror_mode": {
    "name": "ipython",
    "version": 3
   },
   "file_extension": ".py",
   "mimetype": "text/x-python",
   "name": "python",
   "nbconvert_exporter": "python",
   "pygments_lexer": "ipython3",
   "version": "3.8.16"
  }
 },
 "nbformat": 4,
 "nbformat_minor": 2
}
