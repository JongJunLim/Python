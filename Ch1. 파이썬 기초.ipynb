{
 "cells": [
  {
   "cell_type": "markdown",
   "id": "3ac6aed4",
   "metadata": {},
   "source": [
    "1. 파이썬 노트북 Syntax\n",
    " - 노트북은 셀(cell)이라는 네모 칸들로 구성된\n",
    "     - 노트북을 새로 만들면 하나의 셀만 표시되어 있음\n",
    "     - 단축키 b를 누르면 같은 결과를 얻을 수 있으며, a를 누르면 현재 셀 위에 새로운 셀이 추가됨\n",
    " - H 키를 눌러 다양한 단축키를 확인할 수 있음"
   ]
  },
  {
   "cell_type": "code",
   "execution_count": 1,
   "id": "7fa09503",
   "metadata": {},
   "outputs": [
    {
     "data": {
      "text/plain": [
       "6"
      ]
     },
     "execution_count": 1,
     "metadata": {},
     "output_type": "execute_result"
    }
   ],
   "source": [
    "1+2+3"
   ]
  },
  {
   "cell_type": "code",
   "execution_count": 2,
   "id": "89e60514",
   "metadata": {},
   "outputs": [
    {
     "name": "stdout",
     "output_type": "stream",
     "text": [
      "Hi I'm JayJay\n"
     ]
    }
   ],
   "source": [
    "print(\"Hi I'm JayJay\")"
   ]
  },
  {
   "cell_type": "code",
   "execution_count": 3,
   "id": "848985b7",
   "metadata": {},
   "outputs": [
    {
     "data": {
      "text/plain": [
       "15"
      ]
     },
     "execution_count": 3,
     "metadata": {},
     "output_type": "execute_result"
    }
   ],
   "source": [
    "a = 10\n",
    "b = a+5\n",
    "b"
   ]
  },
  {
   "cell_type": "code",
   "execution_count": 4,
   "id": "429a8faa",
   "metadata": {},
   "outputs": [
    {
     "name": "stdout",
     "output_type": "stream",
     "text": [
      "10 15\n",
      "0 JayJay 25\n"
     ]
    }
   ],
   "source": [
    "print(a,b)\n",
    "print(0, \"JayJay\", a+b)"
   ]
  },
  {
   "cell_type": "code",
   "execution_count": 5,
   "id": "061c66c7",
   "metadata": {},
   "outputs": [
    {
     "name": "stdout",
     "output_type": "stream",
     "text": [
      "10 10.5 jayjay False None\n",
      "<class 'int'> <class 'float'> <class 'str'> <class 'bool'> <class 'NoneType'>\n"
     ]
    }
   ],
   "source": [
    "a= 10\n",
    "b = 10.5\n",
    "c = \"jayjay\"\n",
    "d = (a==b)\n",
    "e = None\n",
    "\n",
    "print(a,b,c,d,e)\n",
    "print(type(a),type(b),type(c),type(d),type(e))"
   ]
  },
  {
   "cell_type": "code",
   "execution_count": 6,
   "id": "5365714b",
   "metadata": {},
   "outputs": [
    {
     "name": "stdout",
     "output_type": "stream",
     "text": [
      "llo\n",
      "Hello \n",
      "jayjay\n"
     ]
    }
   ],
   "source": [
    "a = \"Hello jayjay\"\n",
    "\n",
    "print(a[2:5])\n",
    "print(a[:6])\n",
    "print(a[6:])"
   ]
  },
  {
   "cell_type": "code",
   "execution_count": 8,
   "id": "dcf2a079",
   "metadata": {},
   "outputs": [
    {
     "name": "stdout",
     "output_type": "stream",
     "text": [
      "Hello JAYJAY\n"
     ]
    }
   ],
   "source": [
    "a = \"Hello jayjay\"\n",
    "b = a.replace('jay','JAY')\n",
    "print(b)"
   ]
  },
  {
   "cell_type": "code",
   "execution_count": 10,
   "id": "602f7a86",
   "metadata": {},
   "outputs": [
    {
     "name": "stdout",
     "output_type": "stream",
     "text": [
      "나의 키는 173cm이고, 몸무게는 71kg 입니다.\n"
     ]
    }
   ],
   "source": [
    "height = 173\n",
    "weight = 71\n",
    "\n",
    "a = \"나의 키는 {}cm이고, 몸무게는 {}kg 입니다.\".format(height, weight)\n",
    "print(a)"
   ]
  },
  {
   "cell_type": "code",
   "execution_count": 11,
   "id": "f577018d",
   "metadata": {},
   "outputs": [
    {
     "name": "stdout",
     "output_type": "stream",
     "text": [
      "[\"I'm\", 'a', 'boy', 'you', 'are', 'a', 'girl']\n"
     ]
    }
   ],
   "source": [
    "a = \"I'm a boy you are a girl\"\n",
    "b = a.split()\n",
    "print(b)"
   ]
  },
  {
   "cell_type": "code",
   "execution_count": 12,
   "id": "8aa5d607",
   "metadata": {},
   "outputs": [
    {
     "name": "stdout",
     "output_type": "stream",
     "text": [
      "[\"I'm \", ' boy you ', 're ', ' girl']\n"
     ]
    }
   ],
   "source": [
    "c = a.split('a')\n",
    "print(c)"
   ]
  },
  {
   "cell_type": "markdown",
   "id": "9f5a0d5a",
   "metadata": {},
   "source": [
    "# 리스트(list)\n",
    " - 다양한 형태의 원소(item)를 하나의 집합으로 모아 표현하는 데이터 구조\n",
    " - 빈 list도 생성 가능\n",
    " - [  ] 형태로 표현\n",
    " - 리스트는 다른 리스트의 원소가 될 수 있음"
   ]
  },
  {
   "cell_type": "code",
   "execution_count": 14,
   "id": "72acfa2d",
   "metadata": {},
   "outputs": [
    {
     "name": "stdout",
     "output_type": "stream",
     "text": [
      "[]\n",
      "[1, 2, 3]\n",
      "['Life', 'is', 'too', 'short']\n",
      "[1, 2, 'Life', 'is']\n",
      "[1, 2, ['Life', 'is']]\n"
     ]
    }
   ],
   "source": [
    "a = []                              # 비어있는 리스트\n",
    "b = [1,2,3]                         # 숫자를 요소값으로 가질 수 있음\n",
    "c = ['Life', 'is', 'too', 'short']  # 문자열을 요소값으로 가질 수 있음\n",
    "d = [1,2,'Life', 'is']              # 숫자와 문자열을 함께 요소값으로 가질 수 있음\n",
    "e = [1,2, ['Life', 'is']]           # 리스트 자체를 요소값으로 가질 수 있음\n",
    "\n",
    "print(a)\n",
    "print(b)\n",
    "print(c)\n",
    "print(d)\n",
    "print(e)"
   ]
  },
  {
   "cell_type": "code",
   "execution_count": 16,
   "id": "58d63073",
   "metadata": {},
   "outputs": [
    {
     "name": "stdout",
     "output_type": "stream",
     "text": [
      "['H', 'e', 'l', 'l', 'o', ' ', 'J', 'a', 'y', 'J', 'a', 'y']\n"
     ]
    }
   ],
   "source": [
    "#문자열 -> 리스트 변환\n",
    "a = \"Hello JayJay\"\n",
    "b = list(a)\n",
    "print(b)"
   ]
  },
  {
   "cell_type": "code",
   "execution_count": 18,
   "id": "a6d220e1",
   "metadata": {},
   "outputs": [
    {
     "name": "stdout",
     "output_type": "stream",
     "text": [
      "[2, 5, 10]\n"
     ]
    }
   ],
   "source": [
    "#튜블 -> 리스트 변환\n",
    "c = (2, 5,10)\n",
    "d = list(c)\n",
    "print(d)"
   ]
  },
  {
   "cell_type": "markdown",
   "id": "bd905a24",
   "metadata": {},
   "source": [
    "- 문자열 split() 함수를 통해 생성\n",
    " - 문자열에서 언급했던 split() 함수, 결과가 리스트 형태로 반환"
   ]
  },
  {
   "cell_type": "code",
   "execution_count": 19,
   "id": "ea687908",
   "metadata": {},
   "outputs": [
    {
     "name": "stdout",
     "output_type": "stream",
     "text": [
      "[\"I'm\", 'a', 'boy', 'you', 'are', 'a', 'girl']\n"
     ]
    }
   ],
   "source": [
    "a = \"I'm a boy you are a girl\"\n",
    "b = a.split()\n",
    "\n",
    "print(b)"
   ]
  },
  {
   "cell_type": "markdown",
   "id": "3794a19b",
   "metadata": {},
   "source": [
    "## 5.1 리스트 인덱스\n",
    "    - 문자열의 인덱스와 같은 개념으로 사용가능\n",
    "    - 하나의 원소만 추출할 경우 해당 원소 본래 타입으로 추출\n",
    "    - 두개 이상의 원소를 추출할 경우 리스트로 추출"
   ]
  },
  {
   "cell_type": "code",
   "execution_count": 20,
   "id": "c214d74e",
   "metadata": {},
   "outputs": [
    {
     "name": "stdout",
     "output_type": "stream",
     "text": [
      "3\n",
      "5\n",
      "[1, 2, 3]\n"
     ]
    }
   ],
   "source": [
    "a = [1,2,3,4,5]\n",
    "\n",
    "print(a[2])\n",
    "print(a[-1])\n",
    "print(a[:3])"
   ]
  },
  {
   "cell_type": "markdown",
   "id": "7dd1cad7",
   "metadata": {},
   "source": [
    "## 5.2 리스트 업데이트\n",
    " - 인덱스를 통해 리스트의 원소를 새로운 값으로 업데이트 가능"
   ]
  },
  {
   "cell_type": "code",
   "execution_count": 21,
   "id": "64f61175",
   "metadata": {},
   "outputs": [
    {
     "name": "stdout",
     "output_type": "stream",
     "text": [
      "[0, 2, 3, 4, 7]\n"
     ]
    }
   ],
   "source": [
    "a = [1,2,3,4,5]\n",
    "a[0] = 0\n",
    "a[-1] = 7\n",
    "\n",
    "print(a)"
   ]
  },
  {
   "cell_type": "markdown",
   "id": "fcbeaae4",
   "metadata": {},
   "source": [
    "## 5.3 자주 쓰이는 list 함수\n",
    " - append() 함수\n",
    "  - 리스트의 마지막 인덱스에 항목을 추가"
   ]
  },
  {
   "cell_type": "code",
   "execution_count": 23,
   "id": "d460d2d1",
   "metadata": {},
   "outputs": [
    {
     "name": "stdout",
     "output_type": "stream",
     "text": [
      "[1, 2, 3, 4, 5, 10]\n"
     ]
    }
   ],
   "source": [
    "a = [1,2,3,4,5]\n",
    "a.append(10)\n",
    "\n",
    "print(a)"
   ]
  },
  {
   "cell_type": "markdown",
   "id": "29f914f4",
   "metadata": {},
   "source": [
    "- extend() 함수\n",
    " - 해당 리스트에 다른 리스트의 원소들을 더하여 확장\n",
    " - 연산자로도 확장이 가능"
   ]
  },
  {
   "cell_type": "code",
   "execution_count": 24,
   "id": "2cb0f560",
   "metadata": {},
   "outputs": [
    {
     "name": "stdout",
     "output_type": "stream",
     "text": [
      "[1, 2, 3, 4, 5, 6, 7, 8, 9, 10]\n"
     ]
    }
   ],
   "source": [
    "a = [1,2,3,4,5]\n",
    "b = [6,7,8,9,10]\n",
    "\n",
    "a.extend(b)\n",
    "print(a)"
   ]
  },
  {
   "cell_type": "code",
   "execution_count": 25,
   "id": "1716815f",
   "metadata": {},
   "outputs": [
    {
     "name": "stdout",
     "output_type": "stream",
     "text": [
      "[1, 2, 3, 4, 5, 6, 7, 8, 9, 10]\n"
     ]
    }
   ],
   "source": [
    "a = [1,2,3,4,5]\n",
    "b = [6,7,8,9,10]\n",
    "\n",
    "a += b\n",
    "print(a)"
   ]
  },
  {
   "cell_type": "code",
   "execution_count": 26,
   "id": "a3ff0ca0",
   "metadata": {},
   "outputs": [
    {
     "name": "stdout",
     "output_type": "stream",
     "text": [
      "[1, 2, 3, 4, 5, 6, 7, 8, 9, 10]\n"
     ]
    }
   ],
   "source": [
    "a = [1,2,3,4,5]\n",
    "b = [6,7,8,9,10]\n",
    "\n",
    "a = a+b\n",
    "print(a)"
   ]
  },
  {
   "cell_type": "markdown",
   "id": "6d6248e4",
   "metadata": {},
   "source": [
    "- insert() 함수\n",
    " - 추가하고자 하는 원소를 리스트로 원하는 위치에 추가\n",
    " - (인덱스, 추가하고자 하는 원소) 작성"
   ]
  },
  {
   "cell_type": "code",
   "execution_count": 27,
   "id": "3c3f2649",
   "metadata": {},
   "outputs": [
    {
     "name": "stdout",
     "output_type": "stream",
     "text": [
      "[1, 20, 2, 3, 4, 5]\n"
     ]
    }
   ],
   "source": [
    "a = [1,2,3,4,5]\n",
    "a.insert(1,20)\n",
    "\n",
    "print(a)"
   ]
  },
  {
   "cell_type": "markdown",
   "id": "13b8a4ce",
   "metadata": {},
   "source": [
    "- remove() 함수\n",
    " - 지우고자 하는 값을 지워주는 함수\n",
    " - 인덱스가 아닌 item명 입력"
   ]
  },
  {
   "cell_type": "code",
   "execution_count": 29,
   "id": "98601b0a",
   "metadata": {},
   "outputs": [
    {
     "name": "stdout",
     "output_type": "stream",
     "text": [
      "[1, 2, 3, 4, 5]\n"
     ]
    }
   ],
   "source": [
    "a = [\"a\",1,2,3,4,5]\n",
    "a.remove(\"a\")\n",
    "\n",
    "print(a)"
   ]
  },
  {
   "cell_type": "code",
   "execution_count": 30,
   "id": "4b9cea01",
   "metadata": {},
   "outputs": [
    {
     "name": "stdout",
     "output_type": "stream",
     "text": [
      "[1, 2, 3, 4, 5, 'a']\n"
     ]
    }
   ],
   "source": [
    "a = [\"a\",1,2,3,4,5,\"a\"]\n",
    "a.remove(\"a\")\n",
    "\n",
    "print(a)"
   ]
  },
  {
   "cell_type": "markdown",
   "id": "11dd50a3",
   "metadata": {},
   "source": [
    "- index() 함수\n",
    " - 찾고자 하는 값의 인덱스를 반환"
   ]
  },
  {
   "cell_type": "code",
   "execution_count": 38,
   "id": "a1c3b64d",
   "metadata": {},
   "outputs": [
    {
     "data": {
      "text/plain": [
       "4"
      ]
     },
     "execution_count": 38,
     "metadata": {},
     "output_type": "execute_result"
    }
   ],
   "source": [
    "a = [1,2,3,4,5]\n",
    "a.index(5)"
   ]
  },
  {
   "cell_type": "markdown",
   "id": "e799df3e",
   "metadata": {},
   "source": [
    "- in 키워드\n",
    " - 리스트 내에 해당 값이 존재하는지 확인하는 키워드\n",
    " - value in [list]의 형태로 작성\n",
    " - True, False 로 반환"
   ]
  },
  {
   "cell_type": "code",
   "execution_count": 39,
   "id": "9100b104",
   "metadata": {},
   "outputs": [
    {
     "name": "stdout",
     "output_type": "stream",
     "text": [
      "False <class 'bool'>\n"
     ]
    }
   ],
   "source": [
    "a = [1,2,3,4,5]\n",
    "b = 10\n",
    "\n",
    "c = b in a\n",
    "print(c, type(c))"
   ]
  },
  {
   "cell_type": "code",
   "execution_count": 40,
   "id": "2a3ebf2b",
   "metadata": {},
   "outputs": [
    {
     "name": "stdout",
     "output_type": "stream",
     "text": [
      "True <class 'bool'>\n"
     ]
    }
   ],
   "source": [
    "a = [1,2,3,4,5]\n",
    "b = 4\n",
    "\n",
    "c = b in a\n",
    "print(c, type(c))"
   ]
  },
  {
   "cell_type": "markdown",
   "id": "b3b5373f",
   "metadata": {},
   "source": [
    "- list 정렬\n",
    " - sort() 리스트 자체를 정렬시켜주는 리스트 함수\n",
    " - sorted() 정렬된 리스트를 반환시켜주는 파이썬 기본 내장 함수"
   ]
  },
  {
   "cell_type": "code",
   "execution_count": 41,
   "id": "29b3ffd8",
   "metadata": {},
   "outputs": [
    {
     "name": "stdout",
     "output_type": "stream",
     "text": [
      "[10, 9, 8, 7, 6, 5, 4, 3, 2, 1]\n"
     ]
    }
   ],
   "source": [
    "a = [10,1,3,2,7,4,8,5,9,6]\n",
    "a.sort(reverse= True) # reverse = True 내림차순, 생략시 오름차순\n",
    "\n",
    "print(a)"
   ]
  },
  {
   "cell_type": "markdown",
   "id": "d86eb8c2",
   "metadata": {},
   "source": [
    "## 튜플 (tuple)\n",
    " - 리스트처럼 여러 값을 하나의 집합에 표현하는 데이터 구조(공통점)\n",
    " - 리스트는 대괄호, 튜플은 괄호로 둘러쌈 (차이점1)\n",
    " - 튜플은 1개의 요소만을 가질 때는 요소 뒤에 콤마(,)를 붙여야 함(차이점2)\n",
    " - 리스트와의 차이점은 생성된 후 문자열과 같이 변경 불가능(immutable)(차이점 3)\n",
    "   - 파이썬에는 리스트, 딕셔너리와 같은 변경 가능한(mutable) 자료형과 문자열, 튜플 같은 변경 불가능(immutable)한 자료형이 존재\n",
    " - 얼핏 보면 튜플과 리스는 비슷한 역할을 하지만 프로그래밍을 할 때 튜플과 리스트는 구분해서 사용하는 것이 좋음\n",
    "   - 튜플과 리스트는 가장 큰 차이는 값을 변화시킬 수 있는가 없는가임\n",
    "   - 즉, 리스트의 항목값은 변화가 가능하고 튜플의 항목 값은 변화가 불가능함\n",
    "   - 따라서 프로그램이 실행되는 동안 그 값이 항상 변하지 않기를 바란다거나 값이 바뀔까 걱정하고싶지 않다면 주저하지 말고 튜플을 사용해야함\n",
    "   - 이와는 반대로 수시로 그 값을 변화시켜야할 경우라면 리스트를 사용해야 함\n",
    "   - 실제 프로그램에서는 값이 변경되는 형태의 변수가 훨씬 많기 때문에 평균적으로 튜플보다는 리스트를 더 많이 사용하게 됨"
   ]
  },
  {
   "cell_type": "code",
   "execution_count": 1,
   "id": "044c7fbe",
   "metadata": {},
   "outputs": [
    {
     "name": "stdout",
     "output_type": "stream",
     "text": [
      "[1] <class 'list'>\n",
      "(1,) <class 'tuple'>\n",
      "1 <class 'int'>\n"
     ]
    }
   ],
   "source": [
    "a = [1]\n",
    "b = (1,)\n",
    "c = (1)\n",
    "\n",
    "print(a, type(a))\n",
    "print(b, type(b))\n",
    "print(c, type(c))"
   ]
  },
  {
   "cell_type": "code",
   "execution_count": 2,
   "id": "0d4eecb7",
   "metadata": {},
   "outputs": [
    {
     "name": "stdout",
     "output_type": "stream",
     "text": [
      "[1, 2, 3] <class 'list'>\n",
      "(1, 2, 3) <class 'tuple'>\n"
     ]
    }
   ],
   "source": [
    "a = [1,2,3]\n",
    "b = (1,2,3)\n",
    "\n",
    "print(a, type(a))\n",
    "print(b, type(b))"
   ]
  },
  {
   "cell_type": "markdown",
   "id": "8ed8e567",
   "metadata": {},
   "source": [
    "### 6.1 튜플 언패킹(tuple unpacking)\n",
    "  - 튜플의 요소들을 각각의 변수로 할당\n",
    "  - 한 line으로 간편하게 표현이 가능하며, 괄호 또한 생략이 가능"
   ]
  },
  {
   "cell_type": "code",
   "execution_count": 3,
   "id": "c96250ea",
   "metadata": {},
   "outputs": [
    {
     "name": "stdout",
     "output_type": "stream",
     "text": [
      "10 20 30 40\n"
     ]
    }
   ],
   "source": [
    "a,b,c,d = 10, 20, 30, 40\n",
    "\n",
    "print(a,b,c,d)"
   ]
  },
  {
   "cell_type": "markdown",
   "id": "d400041a",
   "metadata": {},
   "source": [
    "- 튜플 언패킹은 값을 교환할 때 유용하게 사용 가능"
   ]
  },
  {
   "cell_type": "code",
   "execution_count": 4,
   "id": "58c95af8",
   "metadata": {},
   "outputs": [
    {
     "name": "stdout",
     "output_type": "stream",
     "text": [
      "4\n",
      "5\n"
     ]
    }
   ],
   "source": [
    "# 다른 프로그램 언어는 값을 교환하려면 임시 변수가 필요 했음\n",
    "a = 5\n",
    "b = 4\n",
    "\n",
    "temp = a\n",
    "a = b\n",
    "b = temp\n",
    "\n",
    "print(a)\n",
    "print(b)"
   ]
  },
  {
   "cell_type": "code",
   "execution_count": 5,
   "id": "127ed50b",
   "metadata": {},
   "outputs": [
    {
     "name": "stdout",
     "output_type": "stream",
     "text": [
      "4\n",
      "5\n"
     ]
    }
   ],
   "source": [
    "a = 5\n",
    "b = 4\n",
    "\n",
    "a,b = b, a\n",
    "\n",
    "print(a)\n",
    "print(b)"
   ]
  },
  {
   "cell_type": "markdown",
   "id": "d71587ce",
   "metadata": {},
   "source": [
    "## 7. 딕셔너리(dictionary)\n",
    " - \"이름\" : \"송유한\"와 같이 한 쌍의 대응관계를 나타낼 수 있는 데이터 구조\n",
    " - key : value의 구조를 가지고 있으며 ,로 구분\n",
    "   - key에는 숫자형, 문자형, 튜플과 같이 변경불가능(immutable)한 타입만 올 수 있으며 리스트나 딕셔너리는 key로 사용할 수 없다.\n",
    "   - value에는 모든 형태의 데이터가 올 수 있다.\n",
    " - 순서가 존재하지 않음\n",
    "   - 대신, key를 인덱스처럼 활용 가능\n",
    "   - key를 통해 빠른 연산이 가능\n",
    " - {}형태로 표현"
   ]
  },
  {
   "cell_type": "code",
   "execution_count": 6,
   "id": "f98dc08e",
   "metadata": {},
   "outputs": [
    {
     "name": "stdout",
     "output_type": "stream",
     "text": [
      "{'이름': '임종준', '키': '173', '혈액형': 'O형'}\n",
      "{0: 1, 1: 2, 2: 3}\n",
      "{'a': [1, 2, 3], 'b': {'이름': '임종준', '키': '173', '혈액형': 'O형'}}\n"
     ]
    }
   ],
   "source": [
    "a = {\"이름\" : \"임종준\",\n",
    "    \"키\" : \"173\",\n",
    "    \"혈액형\" : \"O형\"}\n",
    "\n",
    "b = {0:1,\n",
    "    1:2,\n",
    "    2:3}\n",
    "\n",
    "c = {\"a\" : [1,2,3],\n",
    "    \"b\" : a}\n",
    "\n",
    "print(a)\n",
    "print(b)\n",
    "print(c)"
   ]
  },
  {
   "cell_type": "markdown",
   "id": "6e996fa7",
   "metadata": {},
   "source": [
    "### 7.1 딕셔너리 업데이트\n",
    " - 기존에 key가 존재 하면 새로운 value로 업데이트 한다. 즉 key는 중복으로 존재할 수 없음\n",
    " - 기존 key가 존재하지 않는다면, 새로운 key와 value가 추가됨\n",
    " - value는 중복으로 존재 가능"
   ]
  },
  {
   "cell_type": "code",
   "execution_count": 7,
   "id": "de59a5c5",
   "metadata": {},
   "outputs": [
    {
     "name": "stdout",
     "output_type": "stream",
     "text": [
      "{'이름': '임종준', '키': '173', '혈액형': 'O형'}\n"
     ]
    }
   ],
   "source": [
    "a = {\"이름\" : \"임종준\",\n",
    "    \"키\" : \"173\",\n",
    "    \"혈액형\" : \"O형\"}\n",
    "\n",
    "print(a)"
   ]
  },
  {
   "cell_type": "code",
   "execution_count": 8,
   "id": "0d2f5ba1",
   "metadata": {},
   "outputs": [
    {
     "ename": "IndentationError",
     "evalue": "unexpected indent (465522696.py, line 2)",
     "output_type": "error",
     "traceback": [
      "\u001b[0;36m  Input \u001b[0;32mIn [8]\u001b[0;36m\u001b[0m\n\u001b[0;31m    a[\"소속\"] = \"DK BMC\"\u001b[0m\n\u001b[0m    ^\u001b[0m\n\u001b[0;31mIndentationError\u001b[0m\u001b[0;31m:\u001b[0m unexpected indent\n"
     ]
    }
   ],
   "source": [
    "#새로운 key, value 추가\n",
    " a[\"소속\"] = \"DK BMC\"\n",
    "    \n",
    "print(a)"
   ]
  },
  {
   "cell_type": "markdown",
   "id": "f640f72a",
   "metadata": {},
   "source": [
    " - update( ) 함수\n",
    "   - 두 딕셔너리를 합쳐주는 함수\n",
    "   - 중복되는 key가 있다면 합쳐지는 객체 key의 value로 덮어써짐"
   ]
  },
  {
   "cell_type": "code",
   "execution_count": 9,
   "id": "834c1d9c",
   "metadata": {},
   "outputs": [
    {
     "name": "stdout",
     "output_type": "stream",
     "text": [
      "{'a': 2, 'b': 2, 'c': 3, 'd': 2, 'e': 5}\n"
     ]
    }
   ],
   "source": [
    "a = {\"a\" : 1, \"b\" : 2, \"c\" : 3}\n",
    "b = {\"a\" : 2, \"d\" : 2, \"e\" : 5}\n",
    "\n",
    "a.update(b)\n",
    "\n",
    "print(a)"
   ]
  },
  {
   "cell_type": "markdown",
   "id": "ec67ff99",
   "metadata": {},
   "source": [
    "- key 삭제\n",
    " - del 키워들 사용하여 key 삭제"
   ]
  },
  {
   "cell_type": "code",
   "execution_count": 10,
   "id": "dd62a014",
   "metadata": {},
   "outputs": [
    {
     "name": "stdout",
     "output_type": "stream",
     "text": [
      "{'이름': '임종준', '키': '173', '혈액형': 'O형'}\n",
      "{'이름': '임종준', '혈액형': 'O형'}\n"
     ]
    }
   ],
   "source": [
    "a = {\"이름\" : \"임종준\",\n",
    "    \"키\" : \"173\",\n",
    "    \"혈액형\" : \"O형\"}\n",
    "\n",
    "print(a)\n",
    "\n",
    "del a['키']\n",
    "print(a)"
   ]
  },
  {
   "cell_type": "markdown",
   "id": "e4242f5c",
   "metadata": {},
   "source": [
    "- clear() 함수\n",
    "  - 딕셔너리의 모든 값을 초기화 한다"
   ]
  },
  {
   "cell_type": "code",
   "execution_count": 11,
   "id": "cd465347",
   "metadata": {},
   "outputs": [
    {
     "name": "stdout",
     "output_type": "stream",
     "text": [
      "{'이름': '임종준', '키': '173', '혈액형': 'O형'}\n",
      "{}\n"
     ]
    }
   ],
   "source": [
    "a = {\"이름\" : \"임종준\",\n",
    "    \"키\" : \"173\",\n",
    "    \"혈액형\" : \"O형\"}\n",
    "\n",
    "print(a)\n",
    "\n",
    "a.clear()\n",
    "print(a)"
   ]
  },
  {
   "cell_type": "markdown",
   "id": "244a411f",
   "metadata": {},
   "source": [
    "- in 키워드\n",
    " - key값의 존재를 확인(value는 불가)\n",
    " - key값으로 검색하기 때문에 빠른 연산이 가능"
   ]
  },
  {
   "cell_type": "code",
   "execution_count": 12,
   "id": "f1849ea8",
   "metadata": {},
   "outputs": [
    {
     "name": "stdout",
     "output_type": "stream",
     "text": [
      "False\n"
     ]
    }
   ],
   "source": [
    "a = {\"a\" : 1, \"b\" : 2, \"c\" :3}\n",
    "\n",
    "print('d' in a)"
   ]
  },
  {
   "cell_type": "code",
   "execution_count": 13,
   "id": "e261a447",
   "metadata": {},
   "outputs": [
    {
     "name": "stdout",
     "output_type": "stream",
     "text": [
      "True\n"
     ]
    }
   ],
   "source": [
    "a = {\"a\" : 1, \"b\" : 2, \"c\" :3}\n",
    "\n",
    "print('a' in a)"
   ]
  },
  {
   "cell_type": "code",
   "execution_count": 14,
   "id": "a8f2767a",
   "metadata": {},
   "outputs": [
    {
     "name": "stdout",
     "output_type": "stream",
     "text": [
      "False\n"
     ]
    }
   ],
   "source": [
    "#value 값을 넣어준다면...\n",
    "\n",
    "a = {\"a\" : 1, \"b\" : 2, \"c\" :3}\n",
    "\n",
    "print('1' in a)"
   ]
  },
  {
   "cell_type": "markdown",
   "id": "56688bea",
   "metadata": {},
   "source": [
    "- get () 함수\n",
    "  - key값으로 검색하여 value 값을 반환해주는 함수\n",
    "  - dic.[key] 형식으로 접근하면 key가 없는 경우 에러가 발생\n",
    "  - dic.get(key) 함수로 접근하면 None으로 반환되어 에러가 발생하지 않음"
   ]
  },
  {
   "cell_type": "code",
   "execution_count": 15,
   "id": "d888ad6a",
   "metadata": {},
   "outputs": [
    {
     "ename": "KeyError",
     "evalue": "'d'",
     "output_type": "error",
     "traceback": [
      "\u001b[0;31m---------------------------------------------------------------------------\u001b[0m",
      "\u001b[0;31mKeyError\u001b[0m                                  Traceback (most recent call last)",
      "Input \u001b[0;32mIn [15]\u001b[0m, in \u001b[0;36m<cell line: 3>\u001b[0;34m()\u001b[0m\n\u001b[1;32m      1\u001b[0m a \u001b[38;5;241m=\u001b[39m {\u001b[38;5;124m\"\u001b[39m\u001b[38;5;124ma\u001b[39m\u001b[38;5;124m\"\u001b[39m : \u001b[38;5;241m1\u001b[39m, \u001b[38;5;124m\"\u001b[39m\u001b[38;5;124mb\u001b[39m\u001b[38;5;124m\"\u001b[39m : \u001b[38;5;241m2\u001b[39m, \u001b[38;5;124m\"\u001b[39m\u001b[38;5;124mc\u001b[39m\u001b[38;5;124m\"\u001b[39m :\u001b[38;5;241m3\u001b[39m}\n\u001b[0;32m----> 3\u001b[0m \u001b[38;5;28mprint\u001b[39m(\u001b[43ma\u001b[49m\u001b[43m[\u001b[49m\u001b[38;5;124;43m'\u001b[39;49m\u001b[38;5;124;43md\u001b[39;49m\u001b[38;5;124;43m'\u001b[39;49m\u001b[43m]\u001b[49m)\n",
      "\u001b[0;31mKeyError\u001b[0m: 'd'"
     ]
    }
   ],
   "source": [
    "a = {\"a\" : 1, \"b\" : 2, \"c\" :3}\n",
    "\n",
    "print(a['d'])"
   ]
  },
  {
   "cell_type": "code",
   "execution_count": 17,
   "id": "dc93ec47",
   "metadata": {},
   "outputs": [
    {
     "name": "stdout",
     "output_type": "stream",
     "text": [
      "None\n"
     ]
    }
   ],
   "source": [
    "a = {\"a\" : 1, \"b\" : 2, \"c\" :3}\n",
    "\n",
    "print(a.get('d'))"
   ]
  },
  {
   "cell_type": "code",
   "execution_count": 18,
   "id": "658b9a70",
   "metadata": {},
   "outputs": [
    {
     "name": "stdout",
     "output_type": "stream",
     "text": [
      "3\n"
     ]
    }
   ],
   "source": [
    "a = {\"a\" : 1, \"b\" : 2, \"c\" :3}\n",
    "\n",
    "print(a.get('c'))"
   ]
  },
  {
   "cell_type": "markdown",
   "id": "0745abb0",
   "metadata": {},
   "source": [
    "### 7.2 딕셔너리 원소 추출\n",
    " - key() : key만 출력\n",
    " - values() : value만 출력\n",
    " - items() : (key, value) 튜플로 출력"
   ]
  },
  {
   "cell_type": "code",
   "execution_count": 19,
   "id": "c043ef7c",
   "metadata": {},
   "outputs": [
    {
     "name": "stdout",
     "output_type": "stream",
     "text": [
      "{'a': 1, 'b': 2, 'c': 3}\n",
      "['a', 'b', 'c']\n",
      "[1, 2, 3]\n",
      "[('a', 1), ('b', 2), ('c', 3)]\n"
     ]
    }
   ],
   "source": [
    "a = {\"a\" : 1, \"b\" : 2, \"c\" :3}\n",
    "\n",
    "print(a)c\n",
    "print(list(a.keys()))\n",
    "print(list(a.values()))\n",
    "print(list(a.items()))"
   ]
  },
  {
   "cell_type": "markdown",
   "id": "6ad89c89",
   "metadata": {},
   "source": [
    "## 집합형(set)\n",
    " - 수학에서의 집합과 동일한 개념\n",
    " - set도 딕셔너리와 같이 {} 형태로 표현되며, 딕셔너리의 key와 같이 숫자형, 문자형 타입만 올 수 있음\n",
    " - list()함수처럼 set()을 통해 리스트, 문자열 등의 데이터를 set으로 변경 할 수 있음"
   ]
  },
  {
   "cell_type": "code",
   "execution_count": 20,
   "id": "29c8f004",
   "metadata": {},
   "outputs": [
    {
     "name": "stdout",
     "output_type": "stream",
     "text": [
      "{1, 2, 3, 4, 5}\n"
     ]
    }
   ],
   "source": [
    "a = [1,2,3,4,5]\n",
    "\n",
    "b = set(a)\n",
    "\n",
    "print(b)"
   ]
  },
  {
   "cell_type": "code",
   "execution_count": 24,
   "id": "838d8756",
   "metadata": {},
   "outputs": [
    {
     "name": "stdout",
     "output_type": "stream",
     "text": [
      "{1, 2, 3, 4, 5}\n",
      "{1, 2, 3}\n",
      "{4, 5}\n",
      "True\n"
     ]
    }
   ],
   "source": [
    "a = {1,2,3}\n",
    "b = {1,2,3,4,5}\n",
    "\n",
    "print(a.union(b)) #합집합\n",
    "print(a.intersection(b)) #교집합\n",
    "print(b.difference(a)) #차집합\n",
    "print(a.issubset(b)) #부분집합"
   ]
  }
 ],
 "metadata": {
  "kernelspec": {
   "display_name": "Python 3 (ipykernel)",
   "language": "python",
   "name": "python3"
  },
  "language_info": {
   "codemirror_mode": {
    "name": "ipython",
    "version": 3
   },
   "file_extension": ".py",
   "mimetype": "text/x-python",
   "name": "python",
   "nbconvert_exporter": "python",
   "pygments_lexer": "ipython3",
   "version": "3.9.12"
  }
 },
 "nbformat": 4,
 "nbformat_minor": 5
}
